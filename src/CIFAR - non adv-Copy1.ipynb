{
 "cells": [
  {
   "cell_type": "markdown",
   "id": "fc4c2e87",
   "metadata": {},
   "source": [
    "CIFAR"
   ]
  },
  {
   "cell_type": "code",
   "execution_count": 1,
   "id": "def29c99",
   "metadata": {},
   "outputs": [],
   "source": [
    "import torch\n",
    "import os\n",
    "import opacus\n",
    "import copy\n",
    "import torchvision\n",
    "import torchattacks\n",
    "\n",
    "import numpy as np\n",
    "import torch.optim as optim\n",
    "import torch.nn as nn\n",
    "import torchvision.transforms as transforms\n",
    "import matplotlib.pyplot as plt\n",
    "\n",
    "from tqdm import tqdm\n",
    "from datetime import datetime\n",
    "from opacus.validators import ModuleValidator\n",
    "\n",
    "\n",
    "from model import ResNet9, initialize_weights\n",
    "from torchvision import models\n",
    "\n",
    "\n",
    "CIFAR10_MEAN = (0.4914, 0.4822, 0.4465)\n",
    "CIFAR10_STD_DEV = (0.2023, 0.1994, 0.2010)\n",
    "\n",
    "def accuracy(preds, labels):\n",
    "    return (preds == labels).mean()\n",
    "\n",
    "class Experiment:\n",
    "    def __init__(self, batch_size, epochs, patience, adv_attack, adv_attack_mode, epsilon, dp, device, save_experiment,\n",
    "                 verbose, adv_test=True, name=None):\n",
    "        # self.model = torch.hub.load('pytorch/vision:v0.10.0', 'resnet18', pretrained=False)\n",
    "        self.model = ResNet9(norm_layer=\"group\")\n",
    "        self.adv_model = ResNet9(norm_layer=\"group\").to(device)\n",
    "        self.optimizer = optim.NAdam(self.model.parameters())\n",
    "        self.criterion = nn.CrossEntropyLoss()\n",
    "        self.batch_size = batch_size\n",
    "        self.epochs = epochs\n",
    "        self.patience = patience\n",
    "        self.adv_attack = adv_attack\n",
    "        self.adv_attack_mode = adv_attack_mode\n",
    "        self.epsilon = epsilon\n",
    "        self.dp = dp\n",
    "        self.device = device\n",
    "        self.verbose = verbose\n",
    "        self.disable_tqdm = not self.verbose\n",
    "        self.save_experiment = save_experiment\n",
    "        self.adv_test = adv_test\n",
    "        self.best_model_weights = None\n",
    "\n",
    "        if name is None:\n",
    "            adv_s = f\"adv-{epsilon}-{adv_attack_mode}\" if adv_attack is not None else \"non_adv\"\n",
    "            dp_s = \"dp\" if dp else \"non_dp\"\n",
    "            self.name = f\"{adv_s}+{dp_s}+{batch_size}\"\n",
    "        else:\n",
    "            self.name = name\n",
    "\n",
    "        now = datetime.now()\n",
    "        formatted_timestamp = now.strftime(\"%d-%m-%Y_%H:%M:%S\")\n",
    "        self.dir_name = f\"results/{self.name}_{formatted_timestamp}\"\n",
    "        if self.save_experiment:\n",
    "            os.makedirs(self.dir_name, exist_ok=True)\n",
    "\n",
    "        self._setup_training()\n",
    "\n",
    "    def _log(self, message):\n",
    "        # if self.verbose:\n",
    "        print(f\"Experiment {self.name}: {message}\")\n",
    "\n",
    "    def _setup_training(self):\n",
    "        self._log(\"Loading data\")\n",
    "        transform = transforms.Compose(\n",
    "            [transforms.ToTensor(),\n",
    "              transforms.Normalize(CIFAR10_MEAN, CIFAR10_STD_DEV)\n",
    "             ])\n",
    "        \n",
    "        learning_set = torchvision.datasets.CIFAR10(root='./data', train=True, download=True, transform=transform)\n",
    "\n",
    "        self.train_loader = torch.utils.data.DataLoader(learning_set, batch_size=self.batch_size, shuffle=True, num_workers=2)\n",
    "\n",
    "        test_set = torchvision.datasets.CIFAR10(root='./data', train=False, download=True, transform=transform)\n",
    "        self.test_loader = torch.utils.data.DataLoader(test_set, batch_size=1, shuffle=False, num_workers=2)\n",
    "\n",
    "        self.classes = ('plane', 'car', 'bird', 'cat', 'deer', 'dog', 'frog', 'horse', 'ship', 'truck')\n",
    "\n",
    "        if self.dp:\n",
    "            self._log(\"DP on\")\n",
    "            self.privacy_engine = opacus.PrivacyEngine()\n",
    "            self.model = ModuleValidator.fix(self.model)\n",
    "            self.optimizer = optim.NAdam(self.model.parameters())\n",
    "            self.model, self.optimizer, self.train_loader = self.privacy_engine.make_private_with_epsilon(\n",
    "                module=self.model,\n",
    "                optimizer=self.optimizer,\n",
    "                data_loader=self.train_loader,\n",
    "                epochs=self.epochs,\n",
    "                target_epsilon=7.5,\n",
    "                target_delta=1e-5,\n",
    "                max_grad_norm=1.2,\n",
    "            )\n",
    "        else:\n",
    "            self._log(\"DP off\")\n",
    "            \n",
    "    \n",
    "    def _fgsm_attack_per_sample(self, inputs, targets):\n",
    "        inputs, targets = inputs.to(self.device), targets.to(self.device)\n",
    "        adv_images = torch.empty_like(inputs)\n",
    "        if self.dp:\n",
    "            self.adv_model.load_state_dict(copy.deepcopy(self.model._module.state_dict()))\n",
    "            attack = torchattacks.FGSM(self.adv_model, eps=self.epsilon)\n",
    "        else:\n",
    "            attack = torchattacks.FGSM(self.model, eps=self.epsilon)\n",
    "        for i in range(len(inputs)):\n",
    "            sample = torch.unsqueeze(inputs[i], dim=0)\n",
    "            sample_target = targets[i:i + 1]\n",
    "\n",
    "            # plt.imshow(np.transpose(sample.squeeze().detach().cpu().numpy(), (1, 2, 0)))\n",
    "            # plt.show()\n",
    "            # plt.imshow(np.transpose(adv_image.squeeze().detach().cpu().numpy(), (1, 2, 0)))\n",
    "            # plt.show()\n",
    "            adv_images[i] = attack(sample, sample_target)\n",
    "\n",
    "        # imshow(torchvision.utils.make_grid(adv_images).cpu())\n",
    "        # imshow(torchvision.utils.make_grid(inputs).cpu())\n",
    "        # print(' '.join(f'{classes[targets[j]]:5s}' for j in range(BATCH_SIZE)))\n",
    "\n",
    "        adv_images.to(self.device)\n",
    "        # print(adv_images.shape, inputs.shape)\n",
    "        return adv_images, targets\n",
    "\n",
    "    def _fgsm_attack_batch(self, inputs, targets):\n",
    "        inputs, targets = inputs.to(self.device), targets.to(self.device)\n",
    "        if self.dp:\n",
    "            self.adv_model.load_state_dict(copy.deepcopy(self.model._module.state_dict()))\n",
    "            attack = torchattacks.FGSM(self.adv_model, eps=self.epsilon)\n",
    "        else:\n",
    "            attack = torchattacks.FGSM(self.model, eps=self.epsilon)\n",
    "    \n",
    "        perturbed_inputs = attack(inputs, targets)\n",
    "        \n",
    "#         plt.imshow(np.transpose(torchvision.utils.make_grid(perturbed_inputs).cpu().numpy(), (1, 2, 0)))\n",
    "#         plt.show()\n",
    "#         plt.imshow(np.transpose(torchvision.utils.make_grid(inputs).cpu().numpy(), (1, 2, 0)))\n",
    "#         plt.show()\n",
    "#         print(' '.join(f'{self.classes[targets[j]]:5s}' for j in range(self.batch_size)))\n",
    "        \n",
    "        return perturbed_inputs, targets\n",
    "\n",
    "    def _run_epoch(self, data_loader):\n",
    "        self.model.train()\n",
    "\n",
    "        losses = []\n",
    "        top1_acc = []\n",
    "\n",
    "        for inputs, targets in tqdm(data_loader, disable=self.disable_tqdm):\n",
    "            if self.adv_attack:\n",
    "                if self.adv_attack_mode == 'batch':\n",
    "                    inputs, targets = self._fgsm_attack_batch(inputs, targets)\n",
    "                else:\n",
    "                    inputs, targets = self._fgsm_attack_per_sample(inputs, targets)\n",
    "            else:\n",
    "                inputs, targets = inputs.to(self.device), targets.to(self.device)\n",
    "\n",
    "            self.optimizer.zero_grad()\n",
    "\n",
    "            output = self.model(inputs)\n",
    "            loss = self.criterion(output, targets)\n",
    "            \n",
    "            preds = np.argmax(output.detach().cpu().numpy(), axis=1)\n",
    "            labels = targets.detach().cpu().numpy()\n",
    "\n",
    "            acc = accuracy(preds, labels)\n",
    "\n",
    "            losses.append(loss.item())\n",
    "            top1_acc.append(acc)\n",
    "\n",
    "            loss.backward()\n",
    "            self.optimizer.step()\n",
    "            \n",
    "        epsilon = self.privacy_engine.get_epsilon(1e-5)\n",
    "        print(epsilon)\n",
    "        return np.mean(losses), np.mean(top1_acc)\n",
    "\n",
    "\n",
    "    def _fit(self):\n",
    "        self._log(\"Training started\")\n",
    "        _ = self.model.to(self.device)\n",
    "        _ = self.model.apply(initialize_weights)\n",
    "\n",
    "        curr_patience = 0\n",
    "        max_acc = 0\n",
    "\n",
    "        val_losses = []\n",
    "        val_accuracies = []\n",
    "        train_losses = []\n",
    "        train_accuracies = []\n",
    "\n",
    "        for epoch in range(self.epochs):\n",
    "\n",
    "            train_loss, train_acc = self._run_epoch(self.train_loader)\n",
    "            self._log(f\"Epoch {epoch + 1: >3}/{self.epochs}, train loss: {train_loss:.2e}, train acc: {train_acc:.3f}\")\n",
    "\n",
    "            train_losses.append(train_loss)\n",
    "            train_accuracies.append(train_acc)\n",
    "            \n",
    "            if train_acc > max_acc:\n",
    "                max_acc = train_acc\n",
    "                self.best_model_weights = copy.deepcopy(self.model.state_dict())\n",
    "                if self.save_experiment:\n",
    "                    torch.save(self.model.state_dict(), f\"{self.dir_name}/{self.name}.pt\")\n",
    "\n",
    "        self.model.load_state_dict(self.best_model_weights)\n",
    "\n",
    "        self._log(\"Training finished\")\n",
    "        epsilon = self.privacy_engine.get_epsilon(1e-5)\n",
    "        print(epsilon)\n",
    "\n",
    "        plt.plot(range(len(train_losses)), np.array(train_losses))\n",
    "        plt.title('train loss')\n",
    "        if self.save_experiment:\n",
    "            plt.savefig(f\"{self.dir_name}/train_loss.png\")\n",
    "        if self.verbose:\n",
    "            plt.show()\n",
    "        else:\n",
    "            plt.clf()\n",
    "\n",
    "        plt.plot(range(len(train_accuracies)), np.array(train_accuracies))\n",
    "        plt.title('train acc')\n",
    "        if self.save_experiment:\n",
    "            plt.savefig(f\"{self.dir_name}/train_acc.png\")\n",
    "        if self.verbose:\n",
    "            plt.show()\n",
    "        else:\n",
    "            plt.clf()\n",
    "\n",
    "    def _validate(self, data_loader):\n",
    "        self.model.eval()\n",
    "        epoch_acc = 0.0\n",
    "        epoch_acc_top5 = 0.0\n",
    "        epoch_loss = 0.0\n",
    "\n",
    "        with torch.no_grad():\n",
    "            for inputs, targets in data_loader:\n",
    "                inputs, targets = inputs.to(self.device), targets.to(self.device)\n",
    "                outputs = self.model(inputs)\n",
    "\n",
    "                loss = self.criterion(outputs, targets)\n",
    "\n",
    "                top1 = torch.argmax(outputs, dim=1).long()\n",
    "                n_correct = torch.sum(top1 == targets)\n",
    "\n",
    "                _, top5 = torch.topk(outputs, 5, dim=1)\n",
    "                top5 = top5.t()\n",
    "                correct = top5.eq(targets.reshape(1, -1).expand_as(top5))\n",
    "                n_correct_top5 = correct[:5].reshape(-1).float().sum(0, keepdim=True)\n",
    "\n",
    "                epoch_loss += loss.item()\n",
    "                epoch_acc += n_correct.item()\n",
    "                epoch_acc_top5 += n_correct_top5.item()\n",
    "\n",
    "            epoch_loss /= len(data_loader.dataset)\n",
    "            epoch_acc /= len(data_loader.dataset)\n",
    "            epoch_acc_top5 /= len(data_loader.dataset)\n",
    "\n",
    "        return epoch_loss, epoch_acc, epoch_acc_top5\n",
    "\n",
    "    def test(self, eps, data_loader):\n",
    "        correct = 0\n",
    "        adv_examples = []\n",
    "        self.model.eval()\n",
    "\n",
    "        if self.dp:\n",
    "            self.adv_model.load_state_dict(copy.deepcopy(self.model._module.state_dict()))\n",
    "            attack = torchattacks.FGSM(self.adv_model, eps=eps)\n",
    "        else:\n",
    "            attack = torchattacks.FGSM(self.model, eps=eps)\n",
    "\n",
    "        for data, target in tqdm(data_loader, disable=self.disable_tqdm):\n",
    "            data, target = data.to(self.device), target.to(self.device)\n",
    "\n",
    "            output = self.model(data)\n",
    "            init_pred = torch.argmax(output, dim=1).long()\n",
    "\n",
    "            if init_pred.item() != target.item():\n",
    "                continue\n",
    "\n",
    "            perturbed_inputs = attack(data, target)\n",
    "            output = self.model(perturbed_inputs)\n",
    "\n",
    "            final_pred = torch.argmax(output, dim=1).long()\n",
    "            if final_pred.item() == target.item():\n",
    "                correct += 1\n",
    "\n",
    "                if (eps == 0) and (len(adv_examples) < 5):\n",
    "                    adv_ex = perturbed_inputs.squeeze().detach().cpu().numpy()\n",
    "                    adv_examples.append((init_pred.item(), final_pred.item(), adv_ex))\n",
    "            else:\n",
    "                if len(adv_examples) < 5:\n",
    "                    adv_ex = perturbed_inputs.squeeze().detach().cpu().numpy()\n",
    "                    adv_examples.append((init_pred.item(), final_pred.item(), adv_ex))\n",
    "\n",
    "        final_acc = correct / float(len(data_loader))\n",
    "        self._log(\n",
    "            \"Epsilon: {}\\tTest Accuracy = {} / {} = {}\".format(eps, correct, len(data_loader), final_acc))\n",
    "        return final_acc, adv_examples"
   ]
  },
  {
   "cell_type": "code",
   "execution_count": 2,
   "id": "bca5c5bd",
   "metadata": {},
   "outputs": [
    {
     "name": "stdout",
     "output_type": "stream",
     "text": [
      "cuda\n",
      "Experiment non_adv+dp+256: Loading data\n",
      "Files already downloaded and verified\n",
      "Files already downloaded and verified\n",
      "Experiment non_adv+dp+256: DP on\n"
     ]
    },
    {
     "name": "stderr",
     "output_type": "stream",
     "text": [
      "/home/anna/miniconda3/envs/ap/lib/python3.10/site-packages/opacus/privacy_engine.py:141: UserWarning: Secure RNG turned off. This is perfectly fine for experimentation as it allows for much faster training performance, but remember to turn it on and retrain one last time before production with ``secure_mode`` turned on.\n",
      "  warnings.warn(\n",
      "/home/anna/miniconda3/envs/ap/lib/python3.10/site-packages/opacus/accountants/analysis/rdp.py:332: UserWarning: Optimal order is the largest alpha. Please consider expanding the range of alphas to get a tighter privacy bound.\n",
      "  warnings.warn(\n"
     ]
    },
    {
     "name": "stdout",
     "output_type": "stream",
     "text": [
      "Experiment non_adv+dp+256: Training started\n"
     ]
    },
    {
     "name": "stderr",
     "output_type": "stream",
     "text": [
      "  0%|                                                     | 0/196 [00:00<?, ?it/s]/home/anna/miniconda3/envs/ap/lib/python3.10/site-packages/torch/nn/modules/module.py:1053: UserWarning: Using a non-full backward hook when the forward contains multiple autograd Nodes is deprecated and will be removed in future versions. This hook will be missing some grad_input. Please use register_full_backward_hook to get the documented behavior.\n",
      "  warnings.warn(\"Using a non-full backward hook when the forward contains multiple autograd Nodes \"\n",
      "100%|███████████████████████████████████████████| 196/196 [00:15<00:00, 12.46it/s]\n"
     ]
    },
    {
     "name": "stdout",
     "output_type": "stream",
     "text": [
      "2.571564908530721\n",
      "Experiment non_adv+dp+256: Epoch   1/50, train loss: 1.95e+00, train acc: 0.353\n"
     ]
    },
    {
     "name": "stderr",
     "output_type": "stream",
     "text": [
      "100%|███████████████████████████████████████████| 196/196 [00:14<00:00, 13.46it/s]\n"
     ]
    },
    {
     "name": "stdout",
     "output_type": "stream",
     "text": [
      "2.8116196368474746\n",
      "Experiment non_adv+dp+256: Epoch   2/50, train loss: 1.73e+00, train acc: 0.443\n"
     ]
    },
    {
     "name": "stderr",
     "output_type": "stream",
     "text": [
      "100%|███████████████████████████████████████████| 196/196 [00:14<00:00, 13.45it/s]\n"
     ]
    },
    {
     "name": "stdout",
     "output_type": "stream",
     "text": [
      "3.0044987202691504\n",
      "Experiment non_adv+dp+256: Epoch   3/50, train loss: 1.70e+00, train acc: 0.477\n"
     ]
    },
    {
     "name": "stderr",
     "output_type": "stream",
     "text": [
      "100%|███████████████████████████████████████████| 196/196 [00:19<00:00, 10.11it/s]\n"
     ]
    },
    {
     "name": "stdout",
     "output_type": "stream",
     "text": [
      "3.1725618832035467\n",
      "Experiment non_adv+dp+256: Epoch   4/50, train loss: 1.68e+00, train acc: 0.494\n"
     ]
    },
    {
     "name": "stderr",
     "output_type": "stream",
     "text": [
      "100%|███████████████████████████████████████████| 196/196 [00:19<00:00, 10.14it/s]\n"
     ]
    },
    {
     "name": "stdout",
     "output_type": "stream",
     "text": [
      "3.3273767737363005\n",
      "Experiment non_adv+dp+256: Epoch   5/50, train loss: 1.69e+00, train acc: 0.512\n"
     ]
    },
    {
     "name": "stderr",
     "output_type": "stream",
     "text": [
      "100%|███████████████████████████████████████████| 196/196 [00:32<00:00,  6.03it/s]\n"
     ]
    },
    {
     "name": "stdout",
     "output_type": "stream",
     "text": [
      "3.4711808388143726\n",
      "Experiment non_adv+dp+256: Epoch   6/50, train loss: 1.68e+00, train acc: 0.522\n"
     ]
    },
    {
     "name": "stderr",
     "output_type": "stream",
     "text": [
      "100%|███████████████████████████████████████████| 196/196 [00:32<00:00,  5.97it/s]\n"
     ]
    },
    {
     "name": "stdout",
     "output_type": "stream",
     "text": [
      "3.606082377552215\n",
      "Experiment non_adv+dp+256: Epoch   7/50, train loss: 1.68e+00, train acc: 0.534\n"
     ]
    },
    {
     "name": "stderr",
     "output_type": "stream",
     "text": [
      "100%|███████████████████████████████████████████| 196/196 [00:32<00:00,  5.97it/s]\n"
     ]
    },
    {
     "name": "stdout",
     "output_type": "stream",
     "text": [
      "3.7365856603782093\n",
      "Experiment non_adv+dp+256: Epoch   8/50, train loss: 1.69e+00, train acc: 0.545\n"
     ]
    },
    {
     "name": "stderr",
     "output_type": "stream",
     "text": [
      "100%|███████████████████████████████████████████| 196/196 [00:32<00:00,  6.01it/s]\n"
     ]
    },
    {
     "name": "stdout",
     "output_type": "stream",
     "text": [
      "3.8608192274863686\n",
      "Experiment non_adv+dp+256: Epoch   9/50, train loss: 1.69e+00, train acc: 0.552\n"
     ]
    },
    {
     "name": "stderr",
     "output_type": "stream",
     "text": [
      "100%|███████████████████████████████████████████| 196/196 [00:32<00:00,  5.98it/s]\n"
     ]
    },
    {
     "name": "stdout",
     "output_type": "stream",
     "text": [
      "3.980680454334303\n",
      "Experiment non_adv+dp+256: Epoch  10/50, train loss: 1.69e+00, train acc: 0.555\n"
     ]
    },
    {
     "name": "stderr",
     "output_type": "stream",
     "text": [
      "100%|███████████████████████████████████████████| 196/196 [00:32<00:00,  6.09it/s]\n"
     ]
    },
    {
     "name": "stdout",
     "output_type": "stream",
     "text": [
      "4.099751548642113\n",
      "Experiment non_adv+dp+256: Epoch  11/50, train loss: 1.67e+00, train acc: 0.567\n"
     ]
    },
    {
     "name": "stderr",
     "output_type": "stream",
     "text": [
      "100%|███████████████████████████████████████████| 196/196 [00:32<00:00,  5.98it/s]\n"
     ]
    },
    {
     "name": "stdout",
     "output_type": "stream",
     "text": [
      "4.210875182321701\n",
      "Experiment non_adv+dp+256: Epoch  12/50, train loss: 1.67e+00, train acc: 0.573\n"
     ]
    },
    {
     "name": "stderr",
     "output_type": "stream",
     "text": [
      "100%|███████████████████████████████████████████| 196/196 [00:32<00:00,  5.99it/s]\n"
     ]
    },
    {
     "name": "stdout",
     "output_type": "stream",
     "text": [
      "4.321998816001289\n",
      "Experiment non_adv+dp+256: Epoch  13/50, train loss: 1.65e+00, train acc: 0.580\n"
     ]
    },
    {
     "name": "stderr",
     "output_type": "stream",
     "text": [
      "100%|███████████████████████████████████████████| 196/196 [00:32<00:00,  6.00it/s]\n"
     ]
    },
    {
     "name": "stdout",
     "output_type": "stream",
     "text": [
      "4.431974657592358\n",
      "Experiment non_adv+dp+256: Epoch  14/50, train loss: 1.67e+00, train acc: 0.580\n"
     ]
    },
    {
     "name": "stderr",
     "output_type": "stream",
     "text": [
      "100%|███████████████████████████████████████████| 196/196 [00:32<00:00,  6.00it/s]\n"
     ]
    },
    {
     "name": "stdout",
     "output_type": "stream",
     "text": [
      "4.53575106358673\n",
      "Experiment non_adv+dp+256: Epoch  15/50, train loss: 1.66e+00, train acc: 0.585\n"
     ]
    },
    {
     "name": "stderr",
     "output_type": "stream",
     "text": [
      "100%|███████████████████████████████████████████| 196/196 [00:32<00:00,  6.02it/s]\n"
     ]
    },
    {
     "name": "stdout",
     "output_type": "stream",
     "text": [
      "4.639527469581102\n",
      "Experiment non_adv+dp+256: Epoch  16/50, train loss: 1.66e+00, train acc: 0.590\n"
     ]
    },
    {
     "name": "stderr",
     "output_type": "stream",
     "text": [
      "100%|███████████████████████████████████████████| 196/196 [00:32<00:00,  6.01it/s]\n"
     ]
    },
    {
     "name": "stdout",
     "output_type": "stream",
     "text": [
      "4.743303875575474\n",
      "Experiment non_adv+dp+256: Epoch  17/50, train loss: 1.67e+00, train acc: 0.590\n"
     ]
    },
    {
     "name": "stderr",
     "output_type": "stream",
     "text": [
      "100%|███████████████████████████████████████████| 196/196 [00:32<00:00,  5.99it/s]\n"
     ]
    },
    {
     "name": "stdout",
     "output_type": "stream",
     "text": [
      "4.84220310065195\n",
      "Experiment non_adv+dp+256: Epoch  18/50, train loss: 1.68e+00, train acc: 0.593\n"
     ]
    },
    {
     "name": "stderr",
     "output_type": "stream",
     "text": [
      "100%|███████████████████████████████████████████| 196/196 [00:32<00:00,  5.99it/s]\n"
     ]
    },
    {
     "name": "stdout",
     "output_type": "stream",
     "text": [
      "4.9396665157530775\n",
      "Experiment non_adv+dp+256: Epoch  19/50, train loss: 1.64e+00, train acc: 0.602\n"
     ]
    },
    {
     "name": "stderr",
     "output_type": "stream",
     "text": [
      "100%|███████████████████████████████████████████| 196/196 [00:32<00:00,  6.02it/s]\n"
     ]
    },
    {
     "name": "stdout",
     "output_type": "stream",
     "text": [
      "5.037129930854204\n",
      "Experiment non_adv+dp+256: Epoch  20/50, train loss: 1.64e+00, train acc: 0.608\n"
     ]
    },
    {
     "name": "stderr",
     "output_type": "stream",
     "text": [
      "100%|███████████████████████████████████████████| 196/196 [00:32<00:00,  6.00it/s]\n"
     ]
    },
    {
     "name": "stdout",
     "output_type": "stream",
     "text": [
      "5.134593345955332\n",
      "Experiment non_adv+dp+256: Epoch  21/50, train loss: 1.63e+00, train acc: 0.613\n"
     ]
    },
    {
     "name": "stderr",
     "output_type": "stream",
     "text": [
      "100%|███████████████████████████████████████████| 196/196 [00:32<00:00,  6.01it/s]\n"
     ]
    },
    {
     "name": "stdout",
     "output_type": "stream",
     "text": [
      "5.226954030986269\n",
      "Experiment non_adv+dp+256: Epoch  22/50, train loss: 1.64e+00, train acc: 0.612\n"
     ]
    },
    {
     "name": "stderr",
     "output_type": "stream",
     "text": [
      "100%|███████████████████████████████████████████| 196/196 [00:33<00:00,  5.93it/s]\n"
     ]
    },
    {
     "name": "stdout",
     "output_type": "stream",
     "text": [
      "5.318888022284712\n",
      "Experiment non_adv+dp+256: Epoch  23/50, train loss: 1.63e+00, train acc: 0.614\n"
     ]
    },
    {
     "name": "stderr",
     "output_type": "stream",
     "text": [
      "100%|███████████████████████████████████████████| 196/196 [00:32<00:00,  6.00it/s]\n"
     ]
    },
    {
     "name": "stdout",
     "output_type": "stream",
     "text": [
      "5.410822013583157\n",
      "Experiment non_adv+dp+256: Epoch  24/50, train loss: 1.63e+00, train acc: 0.619\n"
     ]
    },
    {
     "name": "stderr",
     "output_type": "stream",
     "text": [
      "100%|███████████████████████████████████████████| 196/196 [00:32<00:00,  5.98it/s]\n"
     ]
    },
    {
     "name": "stdout",
     "output_type": "stream",
     "text": [
      "5.502756004881601\n",
      "Experiment non_adv+dp+256: Epoch  25/50, train loss: 1.64e+00, train acc: 0.619\n"
     ]
    },
    {
     "name": "stderr",
     "output_type": "stream",
     "text": [
      "100%|███████████████████████████████████████████| 196/196 [00:32<00:00,  5.99it/s]\n"
     ]
    },
    {
     "name": "stdout",
     "output_type": "stream",
     "text": [
      "5.591822927635452\n",
      "Experiment non_adv+dp+256: Epoch  26/50, train loss: 1.64e+00, train acc: 0.621\n"
     ]
    },
    {
     "name": "stderr",
     "output_type": "stream",
     "text": [
      "100%|███████████████████████████████████████████| 196/196 [00:32<00:00,  5.99it/s]\n"
     ]
    },
    {
     "name": "stdout",
     "output_type": "stream",
     "text": [
      "5.678831834474527\n",
      "Experiment non_adv+dp+256: Epoch  27/50, train loss: 1.63e+00, train acc: 0.621\n"
     ]
    },
    {
     "name": "stderr",
     "output_type": "stream",
     "text": [
      "100%|███████████████████████████████████████████| 196/196 [00:32<00:00,  6.00it/s]\n"
     ]
    },
    {
     "name": "stdout",
     "output_type": "stream",
     "text": [
      "5.765840741313602\n",
      "Experiment non_adv+dp+256: Epoch  28/50, train loss: 1.62e+00, train acc: 0.626\n"
     ]
    },
    {
     "name": "stderr",
     "output_type": "stream",
     "text": [
      "100%|███████████████████████████████████████████| 196/196 [00:32<00:00,  6.01it/s]\n"
     ]
    },
    {
     "name": "stdout",
     "output_type": "stream",
     "text": [
      "5.852849648152678\n",
      "Experiment non_adv+dp+256: Epoch  29/50, train loss: 1.61e+00, train acc: 0.626\n"
     ]
    },
    {
     "name": "stderr",
     "output_type": "stream",
     "text": [
      "100%|███████████████████████████████████████████| 196/196 [00:14<00:00, 13.25it/s]\n"
     ]
    },
    {
     "name": "stdout",
     "output_type": "stream",
     "text": [
      "5.939858554991754\n",
      "Experiment non_adv+dp+256: Epoch  30/50, train loss: 1.61e+00, train acc: 0.627\n"
     ]
    },
    {
     "name": "stderr",
     "output_type": "stream",
     "text": [
      "100%|███████████████████████████████████████████| 196/196 [00:14<00:00, 13.41it/s]\n"
     ]
    },
    {
     "name": "stdout",
     "output_type": "stream",
     "text": [
      "6.0236967157310515\n",
      "Experiment non_adv+dp+256: Epoch  31/50, train loss: 1.63e+00, train acc: 0.629\n"
     ]
    },
    {
     "name": "stderr",
     "output_type": "stream",
     "text": [
      "100%|███████████████████████████████████████████| 196/196 [00:17<00:00, 11.05it/s]\n"
     ]
    },
    {
     "name": "stdout",
     "output_type": "stream",
     "text": [
      "6.106254748145406\n",
      "Experiment non_adv+dp+256: Epoch  32/50, train loss: 1.63e+00, train acc: 0.635\n"
     ]
    },
    {
     "name": "stderr",
     "output_type": "stream",
     "text": [
      "100%|███████████████████████████████████████████| 196/196 [00:17<00:00, 11.17it/s]\n"
     ]
    },
    {
     "name": "stdout",
     "output_type": "stream",
     "text": [
      "6.188812780559761\n",
      "Experiment non_adv+dp+256: Epoch  33/50, train loss: 1.59e+00, train acc: 0.640\n"
     ]
    },
    {
     "name": "stderr",
     "output_type": "stream",
     "text": [
      "100%|███████████████████████████████████████████| 196/196 [00:17<00:00, 11.05it/s]\n"
     ]
    },
    {
     "name": "stdout",
     "output_type": "stream",
     "text": [
      "6.271370812974117\n",
      "Experiment non_adv+dp+256: Epoch  34/50, train loss: 1.61e+00, train acc: 0.636\n"
     ]
    },
    {
     "name": "stderr",
     "output_type": "stream",
     "text": [
      "100%|███████████████████████████████████████████| 196/196 [00:17<00:00, 11.20it/s]\n"
     ]
    },
    {
     "name": "stdout",
     "output_type": "stream",
     "text": [
      "6.353928845388471\n",
      "Experiment non_adv+dp+256: Epoch  35/50, train loss: 1.59e+00, train acc: 0.640\n"
     ]
    },
    {
     "name": "stderr",
     "output_type": "stream",
     "text": [
      "100%|███████████████████████████████████████████| 196/196 [00:14<00:00, 13.29it/s]\n"
     ]
    },
    {
     "name": "stdout",
     "output_type": "stream",
     "text": [
      "6.435435581784149\n",
      "Experiment non_adv+dp+256: Epoch  36/50, train loss: 1.62e+00, train acc: 0.637\n"
     ]
    },
    {
     "name": "stderr",
     "output_type": "stream",
     "text": [
      "100%|███████████████████████████████████████████| 196/196 [00:14<00:00, 13.43it/s]\n"
     ]
    },
    {
     "name": "stdout",
     "output_type": "stream",
     "text": [
      "6.513921042620267\n",
      "Experiment non_adv+dp+256: Epoch  37/50, train loss: 1.61e+00, train acc: 0.638\n"
     ]
    },
    {
     "name": "stderr",
     "output_type": "stream",
     "text": [
      "100%|███████████████████████████████████████████| 196/196 [00:18<00:00, 10.76it/s]\n"
     ]
    },
    {
     "name": "stdout",
     "output_type": "stream",
     "text": [
      "6.592406503456385\n",
      "Experiment non_adv+dp+256: Epoch  38/50, train loss: 1.59e+00, train acc: 0.644\n"
     ]
    },
    {
     "name": "stderr",
     "output_type": "stream",
     "text": [
      "100%|███████████████████████████████████████████| 196/196 [00:32<00:00,  5.95it/s]\n"
     ]
    },
    {
     "name": "stdout",
     "output_type": "stream",
     "text": [
      "6.670891964292503\n",
      "Experiment non_adv+dp+256: Epoch  39/50, train loss: 1.58e+00, train acc: 0.644\n"
     ]
    },
    {
     "name": "stderr",
     "output_type": "stream",
     "text": [
      "100%|███████████████████████████████████████████| 196/196 [00:32<00:00,  6.08it/s]\n"
     ]
    },
    {
     "name": "stdout",
     "output_type": "stream",
     "text": [
      "6.74937742512862\n",
      "Experiment non_adv+dp+256: Epoch  40/50, train loss: 1.59e+00, train acc: 0.648\n"
     ]
    },
    {
     "name": "stderr",
     "output_type": "stream",
     "text": [
      "100%|███████████████████████████████████████████| 196/196 [00:32<00:00,  6.00it/s]\n"
     ]
    },
    {
     "name": "stdout",
     "output_type": "stream",
     "text": [
      "6.827862885964739\n",
      "Experiment non_adv+dp+256: Epoch  41/50, train loss: 1.61e+00, train acc: 0.648\n"
     ]
    },
    {
     "name": "stderr",
     "output_type": "stream",
     "text": [
      "100%|███████████████████████████████████████████| 196/196 [00:32<00:00,  6.00it/s]\n"
     ]
    },
    {
     "name": "stdout",
     "output_type": "stream",
     "text": [
      "6.905810466841105\n",
      "Experiment non_adv+dp+256: Epoch  42/50, train loss: 1.59e+00, train acc: 0.650\n"
     ]
    },
    {
     "name": "stderr",
     "output_type": "stream",
     "text": [
      "100%|███████████████████████████████████████████| 196/196 [00:32<00:00,  5.98it/s]\n"
     ]
    },
    {
     "name": "stdout",
     "output_type": "stream",
     "text": [
      "6.980529936004733\n",
      "Experiment non_adv+dp+256: Epoch  43/50, train loss: 1.57e+00, train acc: 0.656\n"
     ]
    },
    {
     "name": "stderr",
     "output_type": "stream",
     "text": [
      "100%|███████████████████████████████████████████| 196/196 [00:32<00:00,  5.95it/s]\n"
     ]
    },
    {
     "name": "stdout",
     "output_type": "stream",
     "text": [
      "7.055249405168361\n",
      "Experiment non_adv+dp+256: Epoch  44/50, train loss: 1.58e+00, train acc: 0.651\n"
     ]
    },
    {
     "name": "stderr",
     "output_type": "stream",
     "text": [
      "100%|███████████████████████████████████████████| 196/196 [00:32<00:00,  5.99it/s]\n"
     ]
    },
    {
     "name": "stdout",
     "output_type": "stream",
     "text": [
      "7.129968874331989\n",
      "Experiment non_adv+dp+256: Epoch  45/50, train loss: 1.58e+00, train acc: 0.653\n"
     ]
    },
    {
     "name": "stderr",
     "output_type": "stream",
     "text": [
      "100%|███████████████████████████████████████████| 196/196 [00:32<00:00,  6.02it/s]\n"
     ]
    },
    {
     "name": "stdout",
     "output_type": "stream",
     "text": [
      "7.204688343495617\n",
      "Experiment non_adv+dp+256: Epoch  46/50, train loss: 1.59e+00, train acc: 0.651\n"
     ]
    },
    {
     "name": "stderr",
     "output_type": "stream",
     "text": [
      "100%|███████████████████████████████████████████| 196/196 [00:32<00:00,  5.98it/s]\n"
     ]
    },
    {
     "name": "stdout",
     "output_type": "stream",
     "text": [
      "7.279407812659245\n",
      "Experiment non_adv+dp+256: Epoch  47/50, train loss: 1.57e+00, train acc: 0.651\n"
     ]
    },
    {
     "name": "stderr",
     "output_type": "stream",
     "text": [
      "100%|███████████████████████████████████████████| 196/196 [00:19<00:00,  9.86it/s]\n"
     ]
    },
    {
     "name": "stdout",
     "output_type": "stream",
     "text": [
      "7.354127281822873\n",
      "Experiment non_adv+dp+256: Epoch  48/50, train loss: 1.59e+00, train acc: 0.654\n"
     ]
    },
    {
     "name": "stderr",
     "output_type": "stream",
     "text": [
      "100%|███████████████████████████████████████████| 196/196 [00:14<00:00, 13.39it/s]\n"
     ]
    },
    {
     "name": "stdout",
     "output_type": "stream",
     "text": [
      "7.427916337531441\n",
      "Experiment non_adv+dp+256: Epoch  49/50, train loss: 1.56e+00, train acc: 0.656\n"
     ]
    },
    {
     "name": "stderr",
     "output_type": "stream",
     "text": [
      "100%|███████████████████████████████████████████| 196/196 [00:14<00:00, 13.31it/s]\n"
     ]
    },
    {
     "name": "stdout",
     "output_type": "stream",
     "text": [
      "7.499121994359426\n",
      "Experiment non_adv+dp+256: Epoch  50/50, train loss: 1.57e+00, train acc: 0.657\n",
      "Experiment non_adv+dp+256: Training finished\n",
      "7.499121994359426\n"
     ]
    },
    {
     "data": {
      "image/png": "[encoded data removed]",
      "text/plain": [
       "<Figure size 640x480 with 1 Axes>"
      ]
     },
     "metadata": {},
     "output_type": "display_data"
    },
    {
     "data": {
      "image/png": "[encoded data removed]",
      "text/plain": [
       "<Figure size 640x480 with 1 Axes>"
      ]
     },
     "metadata": {},
     "output_type": "display_data"
    },
    {
     "ename": "TypeError",
     "evalue": "'NoneType' object is not callable",
     "output_type": "error",
     "traceback": [
      "\u001b[0;31m---------------------------------------------------------------------------\u001b[0m",
      "\u001b[0;31mTypeError\u001b[0m                                 Traceback (most recent call last)",
      "Cell \u001b[0;32mIn[2], line 30\u001b[0m\n\u001b[1;32m     15\u001b[0m adv_attack \u001b[38;5;241m=\u001b[39m \u001b[38;5;28;01mNone\u001b[39;00m\n\u001b[1;32m     17\u001b[0m experiment \u001b[38;5;241m=\u001b[39m Experiment(\n\u001b[1;32m     18\u001b[0m     batch_size\u001b[38;5;241m=\u001b[39mbatch_size, \n\u001b[1;32m     19\u001b[0m     epochs\u001b[38;5;241m=\u001b[39mepochs, \n\u001b[0;32m   (...)\u001b[0m\n\u001b[1;32m     27\u001b[0m     verbose\u001b[38;5;241m=\u001b[39mverbose, \n\u001b[1;32m     28\u001b[0m     adv_test\u001b[38;5;241m=\u001b[39m\u001b[38;5;28;01mTrue\u001b[39;00m)\n\u001b[0;32m---> 30\u001b[0m \u001b[43mexperiment\u001b[49m\u001b[38;5;241;43m.\u001b[39;49m\u001b[43m_fit\u001b[49m\u001b[43m(\u001b[49m\u001b[43m)\u001b[49m\u001b[43m(\u001b[49m\u001b[43m)\u001b[49m\n",
      "\u001b[0;31mTypeError\u001b[0m: 'NoneType' object is not callable"
     ]
    }
   ],
   "source": [
    "import torch\n",
    "# max 1.5 eps 7.5\n",
    "device = torch.device('cuda') if torch.cuda.is_available() else torch.device('cpu')\n",
    "print(device)\n",
    "\n",
    "batch_size=256\n",
    "adv_attack_mode ='batch'\n",
    "epsilon=0.1\n",
    "dp=True\n",
    "epochs = 50\n",
    "patience = 50\n",
    "save_experiment=False \n",
    "verbose=True\n",
    "\n",
    "adv_attack = None\n",
    "\n",
    "experiment = Experiment(\n",
    "    batch_size=batch_size, \n",
    "    epochs=epochs, \n",
    "    patience=patience, \n",
    "    adv_attack=adv_attack, \n",
    "    adv_attack_mode=None, \n",
    "    epsilon=epsilon, \n",
    "    dp=dp, \n",
    "    device=device, \n",
    "    save_experiment=save_experiment, \n",
    "    verbose=verbose, \n",
    "    adv_test=True)\n",
    "\n",
    "experiment._fit()"
   ]
  },
  {
   "cell_type": "code",
   "execution_count": 3,
   "id": "63e4836c",
   "metadata": {},
   "outputs": [
    {
     "data": {
      "text/plain": [
       "(1.6778274120069812, 0.6337, 0.9601)"
      ]
     },
     "execution_count": 3,
     "metadata": {},
     "output_type": "execute_result"
    }
   ],
   "source": [
    "experiment._validate(experiment.test_loader)"
   ]
  },
  {
   "cell_type": "code",
   "execution_count": 4,
   "id": "8454b584",
   "metadata": {},
   "outputs": [
    {
     "data": {
      "text/plain": [
       "0.69549560546875"
      ]
     },
     "execution_count": 4,
     "metadata": {},
     "output_type": "execute_result"
    }
   ],
   "source": [
    "experiment.optimizer.noise_multiplier"
   ]
  },
  {
   "cell_type": "code",
   "execution_count": 2,
   "id": "cdf4ce53",
   "metadata": {},
   "outputs": [
    {
     "name": "stdout",
     "output_type": "stream",
     "text": [
      "cuda\n",
      "Experiment adv-0.1-batch+dp+512: Loading data\n",
      "Files already downloaded and verified\n",
      "Files already downloaded and verified\n",
      "Experiment adv-0.1-batch+dp+512: DP on\n"
     ]
    },
    {
     "name": "stderr",
     "output_type": "stream",
     "text": [
      "/home/anna/miniconda3/envs/ap/lib/python3.10/site-packages/opacus/privacy_engine.py:141: UserWarning: Secure RNG turned off. This is perfectly fine for experimentation as it allows for much faster training performance, but remember to turn it on and retrain one last time before production with ``secure_mode`` turned on.\n",
      "  warnings.warn(\n",
      "/home/anna/miniconda3/envs/ap/lib/python3.10/site-packages/opacus/accountants/analysis/rdp.py:332: UserWarning: Optimal order is the largest alpha. Please consider expanding the range of alphas to get a tighter privacy bound.\n",
      "  warnings.warn(\n"
     ]
    },
    {
     "name": "stdout",
     "output_type": "stream",
     "text": [
      "Experiment adv-0.1-batch+dp+512: Training started\n"
     ]
    },
    {
     "name": "stderr",
     "output_type": "stream",
     "text": [
      "  0%|                                                                                 | 0/98 [00:00<?, ?it/s]/home/anna/miniconda3/envs/ap/lib/python3.10/site-packages/torch/nn/modules/module.py:1053: UserWarning: Using a non-full backward hook when the forward contains multiple autograd Nodes is deprecated and will be removed in future versions. This hook will be missing some grad_input. Please use register_full_backward_hook to get the documented behavior.\n",
      "  warnings.warn(\"Using a non-full backward hook when the forward contains multiple autograd Nodes \"\n",
      "100%|████████████████████████████████████████████████████████████████████████| 98/98 [00:19<00:00,  4.92it/s]\n"
     ]
    },
    {
     "name": "stdout",
     "output_type": "stream",
     "text": [
      "3.0303179219862293\n",
      "Experiment adv-0.1-batch+dp+512: Epoch   1/25, train loss: 2.68e+00, train acc: 0.187\n"
     ]
    },
    {
     "name": "stderr",
     "output_type": "stream",
     "text": [
      "100%|████████████████████████████████████████████████████████████████████████| 98/98 [00:18<00:00,  5.30it/s]\n"
     ]
    },
    {
     "name": "stdout",
     "output_type": "stream",
     "text": [
      "3.4061345426138123\n",
      "Experiment adv-0.1-batch+dp+512: Epoch   2/25, train loss: 2.18e+00, train acc: 0.269\n"
     ]
    },
    {
     "name": "stderr",
     "output_type": "stream",
     "text": [
      "100%|████████████████████████████████████████████████████████████████████████| 98/98 [00:18<00:00,  5.25it/s]\n"
     ]
    },
    {
     "name": "stdout",
     "output_type": "stream",
     "text": [
      "3.7044266457317345\n",
      "Experiment adv-0.1-batch+dp+512: Epoch   3/25, train loss: 2.14e+00, train acc: 0.291\n"
     ]
    },
    {
     "name": "stderr",
     "output_type": "stream",
     "text": [
      "100%|████████████████████████████████████████████████████████████████████████| 98/98 [00:18<00:00,  5.21it/s]\n"
     ]
    },
    {
     "name": "stdout",
     "output_type": "stream",
     "text": [
      "3.967152420117926\n",
      "Experiment adv-0.1-batch+dp+512: Epoch   4/25, train loss: 2.10e+00, train acc: 0.305\n"
     ]
    },
    {
     "name": "stderr",
     "output_type": "stream",
     "text": [
      "100%|████████████████████████████████████████████████████████████████████████| 98/98 [00:18<00:00,  5.20it/s]\n"
     ]
    },
    {
     "name": "stdout",
     "output_type": "stream",
     "text": [
      "4.207332408474399\n",
      "Experiment adv-0.1-batch+dp+512: Epoch   5/25, train loss: 2.08e+00, train acc: 0.307\n"
     ]
    },
    {
     "name": "stderr",
     "output_type": "stream",
     "text": [
      "100%|████████████████████████████████████████████████████████████████████████| 98/98 [00:18<00:00,  5.19it/s]\n"
     ]
    },
    {
     "name": "stdout",
     "output_type": "stream",
     "text": [
      "4.431226564402946\n",
      "Experiment adv-0.1-batch+dp+512: Epoch   6/25, train loss: 2.05e+00, train acc: 0.325\n"
     ]
    },
    {
     "name": "stderr",
     "output_type": "stream",
     "text": [
      "100%|████████████████████████████████████████████████████████████████████████| 98/98 [00:19<00:00,  5.14it/s]\n"
     ]
    },
    {
     "name": "stdout",
     "output_type": "stream",
     "text": [
      "4.638358642347773\n",
      "Experiment adv-0.1-batch+dp+512: Epoch   7/25, train loss: 2.03e+00, train acc: 0.333\n"
     ]
    },
    {
     "name": "stderr",
     "output_type": "stream",
     "text": [
      "100%|████████████████████████████████████████████████████████████████████████| 98/98 [00:18<00:00,  5.16it/s]\n"
     ]
    },
    {
     "name": "stdout",
     "output_type": "stream",
     "text": [
      "4.8403803406271715\n",
      "Experiment adv-0.1-batch+dp+512: Epoch   8/25, train loss: 1.99e+00, train acc: 0.349\n"
     ]
    },
    {
     "name": "stderr",
     "output_type": "stream",
     "text": [
      "100%|████████████████████████████████████████████████████████████████████████| 98/98 [00:19<00:00,  5.14it/s]\n"
     ]
    },
    {
     "name": "stdout",
     "output_type": "stream",
     "text": [
      "5.029228964478132\n",
      "Experiment adv-0.1-batch+dp+512: Epoch   9/25, train loss: 2.00e+00, train acc: 0.351\n"
     ]
    },
    {
     "name": "stderr",
     "output_type": "stream",
     "text": [
      "100%|████████████████████████████████████████████████████████████████████████| 98/98 [00:18<00:00,  5.16it/s]\n"
     ]
    },
    {
     "name": "stdout",
     "output_type": "stream",
     "text": [
      "5.215962871438543\n",
      "Experiment adv-0.1-batch+dp+512: Epoch  10/25, train loss: 1.98e+00, train acc: 0.360\n"
     ]
    },
    {
     "name": "stderr",
     "output_type": "stream",
     "text": [
      "100%|████████████████████████████████████████████████████████████████████████| 98/98 [00:19<00:00,  5.15it/s]\n"
     ]
    },
    {
     "name": "stdout",
     "output_type": "stream",
     "text": [
      "5.391119387493792\n",
      "Experiment adv-0.1-batch+dp+512: Epoch  11/25, train loss: 1.99e+00, train acc: 0.358\n"
     ]
    },
    {
     "name": "stderr",
     "output_type": "stream",
     "text": [
      "100%|████████████████████████████████████████████████████████████████████████| 98/98 [00:18<00:00,  5.17it/s]\n"
     ]
    },
    {
     "name": "stdout",
     "output_type": "stream",
     "text": [
      "5.566275903549042\n",
      "Experiment adv-0.1-batch+dp+512: Epoch  12/25, train loss: 1.96e+00, train acc: 0.370\n"
     ]
    },
    {
     "name": "stderr",
     "output_type": "stream",
     "text": [
      "100%|████████████████████████████████████████████████████████████████████████| 98/98 [00:19<00:00,  5.15it/s]\n"
     ]
    },
    {
     "name": "stdout",
     "output_type": "stream",
     "text": [
      "5.732163158563689\n",
      "Experiment adv-0.1-batch+dp+512: Epoch  13/25, train loss: 1.95e+00, train acc: 0.373\n"
     ]
    },
    {
     "name": "stderr",
     "output_type": "stream",
     "text": [
      "100%|████████████████████████████████████████████████████████████████████████| 98/98 [00:19<00:00,  5.15it/s]\n"
     ]
    },
    {
     "name": "stdout",
     "output_type": "stream",
     "text": [
      "5.8954096329390575\n",
      "Experiment adv-0.1-batch+dp+512: Epoch  14/25, train loss: 1.95e+00, train acc: 0.376\n"
     ]
    },
    {
     "name": "stderr",
     "output_type": "stream",
     "text": [
      "100%|████████████████████████████████████████████████████████████████████████| 98/98 [00:19<00:00,  5.15it/s]\n"
     ]
    },
    {
     "name": "stdout",
     "output_type": "stream",
     "text": [
      "6.058589440463286\n",
      "Experiment adv-0.1-batch+dp+512: Epoch  15/25, train loss: 1.94e+00, train acc: 0.384\n"
     ]
    },
    {
     "name": "stderr",
     "output_type": "stream",
     "text": [
      "100%|████████████████████████████████████████████████████████████████████████| 98/98 [00:19<00:00,  5.15it/s]\n"
     ]
    },
    {
     "name": "stdout",
     "output_type": "stream",
     "text": [
      "6.2113225523629225\n",
      "Experiment adv-0.1-batch+dp+512: Epoch  16/25, train loss: 1.94e+00, train acc: 0.386\n"
     ]
    },
    {
     "name": "stderr",
     "output_type": "stream",
     "text": [
      "100%|████████████████████████████████████████████████████████████████████████| 98/98 [00:18<00:00,  5.20it/s]\n"
     ]
    },
    {
     "name": "stdout",
     "output_type": "stream",
     "text": [
      "6.364055664262559\n",
      "Experiment adv-0.1-batch+dp+512: Epoch  17/25, train loss: 1.92e+00, train acc: 0.387\n"
     ]
    },
    {
     "name": "stderr",
     "output_type": "stream",
     "text": [
      "100%|████████████████████████████████████████████████████████████████████████| 98/98 [00:19<00:00,  5.13it/s]\n"
     ]
    },
    {
     "name": "stdout",
     "output_type": "stream",
     "text": [
      "6.516788776162197\n",
      "Experiment adv-0.1-batch+dp+512: Epoch  18/25, train loss: 1.92e+00, train acc: 0.390\n"
     ]
    },
    {
     "name": "stderr",
     "output_type": "stream",
     "text": [
      "100%|████████████████████████████████████████████████████████████████████████| 98/98 [00:19<00:00,  5.11it/s]\n"
     ]
    },
    {
     "name": "stdout",
     "output_type": "stream",
     "text": [
      "6.662127335737449\n",
      "Experiment adv-0.1-batch+dp+512: Epoch  19/25, train loss: 1.93e+00, train acc: 0.399\n"
     ]
    },
    {
     "name": "stderr",
     "output_type": "stream",
     "text": [
      "100%|████████████████████████████████████████████████████████████████████████| 98/98 [00:19<00:00,  5.14it/s]\n"
     ]
    },
    {
     "name": "stdout",
     "output_type": "stream",
     "text": [
      "6.805458292725727\n",
      "Experiment adv-0.1-batch+dp+512: Epoch  20/25, train loss: 1.90e+00, train acc: 0.403\n"
     ]
    },
    {
     "name": "stderr",
     "output_type": "stream",
     "text": [
      "100%|████████████████████████████████████████████████████████████████████████| 98/98 [00:18<00:00,  5.17it/s]\n"
     ]
    },
    {
     "name": "stdout",
     "output_type": "stream",
     "text": [
      "6.948789249714006\n",
      "Experiment adv-0.1-batch+dp+512: Epoch  21/25, train loss: 1.91e+00, train acc: 0.408\n"
     ]
    },
    {
     "name": "stderr",
     "output_type": "stream",
     "text": [
      "100%|████████████████████████████████████████████████████████████████████████| 98/98 [00:18<00:00,  5.20it/s]\n"
     ]
    },
    {
     "name": "stdout",
     "output_type": "stream",
     "text": [
      "7.091674405299863\n",
      "Experiment adv-0.1-batch+dp+512: Epoch  22/25, train loss: 1.91e+00, train acc: 0.405\n"
     ]
    },
    {
     "name": "stderr",
     "output_type": "stream",
     "text": [
      "100%|████████████████████████████████████████████████████████████████████████| 98/98 [00:19<00:00,  5.16it/s]\n"
     ]
    },
    {
     "name": "stdout",
     "output_type": "stream",
     "text": [
      "7.226500073885393\n",
      "Experiment adv-0.1-batch+dp+512: Epoch  23/25, train loss: 1.91e+00, train acc: 0.410\n"
     ]
    },
    {
     "name": "stderr",
     "output_type": "stream",
     "text": [
      "100%|████████████████████████████████████████████████████████████████████████| 98/98 [00:18<00:00,  5.20it/s]\n"
     ]
    },
    {
     "name": "stdout",
     "output_type": "stream",
     "text": [
      "7.361325742470921\n",
      "Experiment adv-0.1-batch+dp+512: Epoch  24/25, train loss: 1.88e+00, train acc: 0.419\n"
     ]
    },
    {
     "name": "stderr",
     "output_type": "stream",
     "text": [
      "100%|████████████████████████████████████████████████████████████████████████| 98/98 [00:18<00:00,  5.18it/s]\n"
     ]
    },
    {
     "name": "stdout",
     "output_type": "stream",
     "text": [
      "7.4961514110564496\n",
      "Experiment adv-0.1-batch+dp+512: Epoch  25/25, train loss: 1.89e+00, train acc: 0.420\n",
      "Experiment adv-0.1-batch+dp+512: Training finished\n",
      "7.4961514110564496\n"
     ]
    },
    {
     "data": {
      "image/png": "[encoded data removed]",
      "text/plain": [
       "<Figure size 640x480 with 1 Axes>"
      ]
     },
     "metadata": {},
     "output_type": "display_data"
    },
    {
     "data": {
      "image/png": "[encoded data removed]",
      "text/plain": [
       "<Figure size 640x480 with 1 Axes>"
      ]
     },
     "metadata": {},
     "output_type": "display_data"
    }
   ],
   "source": [
    "import torch\n",
    "# max 2 eps 7.5\n",
    "\n",
    "device = torch.device('cuda') if torch.cuda.is_available() else torch.device('cpu')\n",
    "print(device)\n",
    "\n",
    "batch_size=512\n",
    "adv_attack_mode ='batch'\n",
    "epsilon=0.1\n",
    "dp=True\n",
    "epochs = 25\n",
    "patience = 25\n",
    "save_experiment=False \n",
    "verbose=True\n",
    "\n",
    "adv_attack = True\n",
    "\n",
    "experiment = Experiment(\n",
    "    batch_size=batch_size, \n",
    "    epochs=epochs, \n",
    "    patience=patience, \n",
    "    adv_attack=adv_attack, \n",
    "    adv_attack_mode=adv_attack_mode, \n",
    "    epsilon=epsilon, \n",
    "    dp=dp, \n",
    "    device=device, \n",
    "    save_experiment=save_experiment, \n",
    "    verbose=verbose, \n",
    "    adv_test=True)\n",
    "\n",
    "experiment._fit()"
   ]
  },
  {
   "cell_type": "code",
   "execution_count": 3,
   "id": "8ed22d4f",
   "metadata": {},
   "outputs": [
    {
     "data": {
      "text/plain": [
       "(4.370759160028823, 0.3185, 0.7666)"
      ]
     },
     "execution_count": 3,
     "metadata": {},
     "output_type": "execute_result"
    }
   ],
   "source": [
    "experiment._validate(experiment.test_loader)"
   ]
  },
  {
   "cell_type": "code",
   "execution_count": 2,
   "id": "f55504e7",
   "metadata": {},
   "outputs": [
    {
     "name": "stdout",
     "output_type": "stream",
     "text": [
      "cuda\n",
      "Experiment non_adv+dp+2048: Loading data\n",
      "Files already downloaded and verified\n",
      "Files already downloaded and verified\n",
      "Experiment non_adv+dp+2048: DP on\n"
     ]
    },
    {
     "name": "stderr",
     "output_type": "stream",
     "text": [
      "/home/anna/miniconda3/envs/ap/lib/python3.10/site-packages/opacus/privacy_engine.py:141: UserWarning: Secure RNG turned off. This is perfectly fine for experimentation as it allows for much faster training performance, but remember to turn it on and retrain one last time before production with ``secure_mode`` turned on.\n",
      "  warnings.warn(\n",
      "/home/anna/miniconda3/envs/ap/lib/python3.10/site-packages/opacus/accountants/analysis/rdp.py:332: UserWarning: Optimal order is the largest alpha. Please consider expanding the range of alphas to get a tighter privacy bound.\n",
      "  warnings.warn(\n"
     ]
    },
    {
     "name": "stdout",
     "output_type": "stream",
     "text": [
      "Experiment non_adv+dp+2048: Training started\n"
     ]
    },
    {
     "name": "stderr",
     "output_type": "stream",
     "text": [
      "  0%|                                                                           | 0/25 [00:00<?, ?it/s]/home/anna/miniconda3/envs/ap/lib/python3.10/site-packages/torch/nn/modules/module.py:1053: UserWarning: Using a non-full backward hook when the forward contains multiple autograd Nodes is deprecated and will be removed in future versions. This hook will be missing some grad_input. Please use register_full_backward_hook to get the documented behavior.\n",
      "  warnings.warn(\"Using a non-full backward hook when the forward contains multiple autograd Nodes \"\n",
      "100%|██████████████████████████████████████████████████████████████████| 25/25 [00:16<00:00,  1.54it/s]\n"
     ]
    },
    {
     "name": "stdout",
     "output_type": "stream",
     "text": [
      "2.302368946645646\n",
      "Experiment non_adv+dp+2048: Epoch   1/25, train loss: 3.74e+00, train acc: 0.193\n"
     ]
    },
    {
     "name": "stderr",
     "output_type": "stream",
     "text": [
      "100%|██████████████████████████████████████████████████████████████████| 25/25 [00:14<00:00,  1.74it/s]\n"
     ]
    },
    {
     "name": "stdout",
     "output_type": "stream",
     "text": [
      "2.729855877519122\n",
      "Experiment non_adv+dp+2048: Epoch   2/25, train loss: 2.02e+00, train acc: 0.325\n"
     ]
    },
    {
     "name": "stderr",
     "output_type": "stream",
     "text": [
      "100%|██████████████████████████████████████████████████████████████████| 25/25 [00:15<00:00,  1.66it/s]\n"
     ]
    },
    {
     "name": "stdout",
     "output_type": "stream",
     "text": [
      "3.0816671865467207\n",
      "Experiment non_adv+dp+2048: Epoch   3/25, train loss: 1.88e+00, train acc: 0.393\n"
     ]
    },
    {
     "name": "stderr",
     "output_type": "stream",
     "text": [
      "100%|██████████████████████████████████████████████████████████████████| 25/25 [00:15<00:00,  1.63it/s]\n"
     ]
    },
    {
     "name": "stdout",
     "output_type": "stream",
     "text": [
      "3.3924403403485655\n",
      "Experiment non_adv+dp+2048: Epoch   4/25, train loss: 1.93e+00, train acc: 0.419\n"
     ]
    },
    {
     "name": "stderr",
     "output_type": "stream",
     "text": [
      "100%|██████████████████████████████████████████████████████████████████| 25/25 [00:14<00:00,  1.71it/s]\n"
     ]
    },
    {
     "name": "stdout",
     "output_type": "stream",
     "text": [
      "3.6758822757133314\n",
      "Experiment non_adv+dp+2048: Epoch   5/25, train loss: 1.85e+00, train acc: 0.452\n"
     ]
    },
    {
     "name": "stderr",
     "output_type": "stream",
     "text": [
      "100%|██████████████████████████████████████████████████████████████████| 25/25 [00:15<00:00,  1.58it/s]\n"
     ]
    },
    {
     "name": "stdout",
     "output_type": "stream",
     "text": [
      "3.940178364705668\n",
      "Experiment non_adv+dp+2048: Epoch   6/25, train loss: 1.80e+00, train acc: 0.473\n"
     ]
    },
    {
     "name": "stderr",
     "output_type": "stream",
     "text": [
      "100%|██████████████████████████████████████████████████████████████████| 25/25 [00:14<00:00,  1.71it/s]\n"
     ]
    },
    {
     "name": "stdout",
     "output_type": "stream",
     "text": [
      "4.188633277191466\n",
      "Experiment non_adv+dp+2048: Epoch   7/25, train loss: 1.76e+00, train acc: 0.493\n"
     ]
    },
    {
     "name": "stderr",
     "output_type": "stream",
     "text": [
      "100%|██████████████████████████████████████████████████████████████████| 25/25 [00:14<00:00,  1.72it/s]\n"
     ]
    },
    {
     "name": "stdout",
     "output_type": "stream",
     "text": [
      "4.423817189478229\n",
      "Experiment non_adv+dp+2048: Epoch   8/25, train loss: 1.73e+00, train acc: 0.512\n"
     ]
    },
    {
     "name": "stderr",
     "output_type": "stream",
     "text": [
      "100%|██████████████████████████████████████████████████████████████████| 25/25 [00:14<00:00,  1.70it/s]\n"
     ]
    },
    {
     "name": "stdout",
     "output_type": "stream",
     "text": [
      "4.648766561097072\n",
      "Experiment non_adv+dp+2048: Epoch   9/25, train loss: 1.78e+00, train acc: 0.516\n"
     ]
    },
    {
     "name": "stderr",
     "output_type": "stream",
     "text": [
      "100%|██████████████████████████████████████████████████████████████████| 25/25 [00:14<00:00,  1.70it/s]\n"
     ]
    },
    {
     "name": "stdout",
     "output_type": "stream",
     "text": [
      "4.865007151405255\n",
      "Experiment non_adv+dp+2048: Epoch  10/25, train loss: 1.66e+00, train acc: 0.539\n"
     ]
    },
    {
     "name": "stderr",
     "output_type": "stream",
     "text": [
      "100%|██████████████████████████████████████████████████████████████████| 25/25 [00:14<00:00,  1.70it/s]\n"
     ]
    },
    {
     "name": "stdout",
     "output_type": "stream",
     "text": [
      "5.073301047960285\n",
      "Experiment non_adv+dp+2048: Epoch  11/25, train loss: 1.60e+00, train acc: 0.557\n"
     ]
    },
    {
     "name": "stderr",
     "output_type": "stream",
     "text": [
      "100%|██████████████████████████████████████████████████████████████████| 25/25 [00:15<00:00,  1.64it/s]\n"
     ]
    },
    {
     "name": "stdout",
     "output_type": "stream",
     "text": [
      "5.273658035935308\n",
      "Experiment non_adv+dp+2048: Epoch  12/25, train loss: 1.59e+00, train acc: 0.572\n"
     ]
    },
    {
     "name": "stderr",
     "output_type": "stream",
     "text": [
      "100%|██████████████████████████████████████████████████████████████████| 25/25 [00:14<00:00,  1.71it/s]\n"
     ]
    },
    {
     "name": "stdout",
     "output_type": "stream",
     "text": [
      "5.46851892155364\n",
      "Experiment non_adv+dp+2048: Epoch  13/25, train loss: 1.51e+00, train acc: 0.592\n"
     ]
    },
    {
     "name": "stderr",
     "output_type": "stream",
     "text": [
      "100%|██████████████████████████████████████████████████████████████████| 25/25 [00:14<00:00,  1.70it/s]\n"
     ]
    },
    {
     "name": "stdout",
     "output_type": "stream",
     "text": [
      "5.6591922653936955\n",
      "Experiment non_adv+dp+2048: Epoch  14/25, train loss: 1.48e+00, train acc: 0.607\n"
     ]
    },
    {
     "name": "stderr",
     "output_type": "stream",
     "text": [
      "100%|██████████████████████████████████████████████████████████████████| 25/25 [00:14<00:00,  1.70it/s]\n"
     ]
    },
    {
     "name": "stdout",
     "output_type": "stream",
     "text": [
      "5.842858739433841\n",
      "Experiment non_adv+dp+2048: Epoch  15/25, train loss: 1.53e+00, train acc: 0.606\n"
     ]
    },
    {
     "name": "stderr",
     "output_type": "stream",
     "text": [
      "100%|██████████████████████████████████████████████████████████████████| 25/25 [00:14<00:00,  1.71it/s]\n"
     ]
    },
    {
     "name": "stdout",
     "output_type": "stream",
     "text": [
      "6.023173222674204\n",
      "Experiment non_adv+dp+2048: Epoch  16/25, train loss: 1.37e+00, train acc: 0.636\n"
     ]
    },
    {
     "name": "stderr",
     "output_type": "stream",
     "text": [
      "100%|██████████████████████████████████████████████████████████████████| 25/25 [00:14<00:00,  1.72it/s]\n"
     ]
    },
    {
     "name": "stdout",
     "output_type": "stream",
     "text": [
      "6.199346160190061\n",
      "Experiment non_adv+dp+2048: Epoch  17/25, train loss: 1.41e+00, train acc: 0.634\n"
     ]
    },
    {
     "name": "stderr",
     "output_type": "stream",
     "text": [
      "100%|██████████████████████████████████████████████████████████████████| 25/25 [00:14<00:00,  1.72it/s]\n"
     ]
    },
    {
     "name": "stdout",
     "output_type": "stream",
     "text": [
      "6.371273116071586\n",
      "Experiment non_adv+dp+2048: Epoch  18/25, train loss: 1.33e+00, train acc: 0.649\n"
     ]
    },
    {
     "name": "stderr",
     "output_type": "stream",
     "text": [
      "100%|██████████████████████████████████████████████████████████████████| 25/25 [00:14<00:00,  1.70it/s]\n"
     ]
    },
    {
     "name": "stdout",
     "output_type": "stream",
     "text": [
      "6.540255436418923\n",
      "Experiment non_adv+dp+2048: Epoch  19/25, train loss: 1.41e+00, train acc: 0.642\n"
     ]
    },
    {
     "name": "stderr",
     "output_type": "stream",
     "text": [
      "100%|██████████████████████████████████████████████████████████████████| 25/25 [00:14<00:00,  1.71it/s]\n"
     ]
    },
    {
     "name": "stdout",
     "output_type": "stream",
     "text": [
      "6.705760716264979\n",
      "Experiment non_adv+dp+2048: Epoch  20/25, train loss: 1.40e+00, train acc: 0.646\n"
     ]
    },
    {
     "name": "stderr",
     "output_type": "stream",
     "text": [
      "100%|██████████████████████████████████████████████████████████████████| 25/25 [00:14<00:00,  1.70it/s]\n"
     ]
    },
    {
     "name": "stdout",
     "output_type": "stream",
     "text": [
      "6.867828866533926\n",
      "Experiment non_adv+dp+2048: Epoch  21/25, train loss: 1.30e+00, train acc: 0.666\n"
     ]
    },
    {
     "name": "stderr",
     "output_type": "stream",
     "text": [
      "100%|██████████████████████████████████████████████████████████████████| 25/25 [00:14<00:00,  1.71it/s]\n"
     ]
    },
    {
     "name": "stdout",
     "output_type": "stream",
     "text": [
      "7.028919498681803\n",
      "Experiment non_adv+dp+2048: Epoch  22/25, train loss: 1.27e+00, train acc: 0.674\n"
     ]
    },
    {
     "name": "stderr",
     "output_type": "stream",
     "text": [
      "100%|██████████████████████████████████████████████████████████████████| 25/25 [00:14<00:00,  1.70it/s]\n"
     ]
    },
    {
     "name": "stdout",
     "output_type": "stream",
     "text": [
      "7.184326794454435\n",
      "Experiment non_adv+dp+2048: Epoch  23/25, train loss: 1.35e+00, train acc: 0.664\n"
     ]
    },
    {
     "name": "stderr",
     "output_type": "stream",
     "text": [
      "100%|██████████████████████████████████████████████████████████████████| 25/25 [00:14<00:00,  1.70it/s]\n"
     ]
    },
    {
     "name": "stdout",
     "output_type": "stream",
     "text": [
      "7.339734090227068\n",
      "Experiment non_adv+dp+2048: Epoch  24/25, train loss: 1.24e+00, train acc: 0.683\n"
     ]
    },
    {
     "name": "stderr",
     "output_type": "stream",
     "text": [
      "100%|██████████████████████████████████████████████████████████████████| 25/25 [00:15<00:00,  1.65it/s]\n"
     ]
    },
    {
     "name": "stdout",
     "output_type": "stream",
     "text": [
      "7.49207889888858\n",
      "Experiment non_adv+dp+2048: Epoch  25/25, train loss: 1.28e+00, train acc: 0.682\n",
      "Experiment non_adv+dp+2048: Training finished\n",
      "7.49207889888858\n"
     ]
    },
    {
     "data": {
      "image/png": "[encoded data removed]",
      "text/plain": [
       "<Figure size 640x480 with 1 Axes>"
      ]
     },
     "metadata": {},
     "output_type": "display_data"
    },
    {
     "data": {
      "image/png": "[encoded data removed]",
      "text/plain": [
       "<Figure size 640x480 with 1 Axes>"
      ]
     },
     "metadata": {},
     "output_type": "display_data"
    }
   ],
   "source": [
    "import torch\n",
    "# max 1.5 eps 7.5\n",
    "\n",
    "device = torch.device('cuda') if torch.cuda.is_available() else torch.device('cpu')\n",
    "print(device)\n",
    "\n",
    "batch_size=2048\n",
    "adv_attack_mode ='batch'\n",
    "epsilon=0.1\n",
    "dp=True\n",
    "epochs = 25\n",
    "patience = 25\n",
    "save_experiment=False \n",
    "verbose=True\n",
    "\n",
    "adv_attack = None\n",
    "\n",
    "experiment = Experiment(\n",
    "    batch_size=batch_size, \n",
    "    epochs=epochs, \n",
    "    patience=patience, \n",
    "    adv_attack=adv_attack, \n",
    "    adv_attack_mode=None, \n",
    "    epsilon=epsilon, \n",
    "    dp=dp, \n",
    "    device=device, \n",
    "    save_experiment=save_experiment, \n",
    "    verbose=verbose, \n",
    "    adv_test=False)\n",
    "\n",
    "experiment._fit()"
   ]
  },
  {
   "cell_type": "code",
   "execution_count": 3,
   "id": "88365f8b",
   "metadata": {},
   "outputs": [
    {
     "data": {
      "text/plain": [
       "(1.3754646141065807, 0.6551, 0.9616)"
      ]
     },
     "execution_count": 3,
     "metadata": {},
     "output_type": "execute_result"
    }
   ],
   "source": [
    "experiment._validate(experiment.test_loader)"
   ]
  },
  {
   "cell_type": "code",
   "execution_count": 2,
   "id": "c8aaacd0",
   "metadata": {},
   "outputs": [
    {
     "name": "stdout",
     "output_type": "stream",
     "text": [
      "cuda\n",
      "Experiment non_adv+dp+2048: Loading data\n",
      "Files already downloaded and verified\n",
      "Files already downloaded and verified\n",
      "Experiment non_adv+dp+2048: DP on\n"
     ]
    },
    {
     "name": "stderr",
     "output_type": "stream",
     "text": [
      "/home/anna/miniconda3/envs/ap/lib/python3.10/site-packages/opacus/privacy_engine.py:141: UserWarning: Secure RNG turned off. This is perfectly fine for experimentation as it allows for much faster training performance, but remember to turn it on and retrain one last time before production with ``secure_mode`` turned on.\n",
      "  warnings.warn(\n"
     ]
    },
    {
     "name": "stdout",
     "output_type": "stream",
     "text": [
      "Experiment non_adv+dp+2048: Training started\n"
     ]
    },
    {
     "name": "stderr",
     "output_type": "stream",
     "text": [
      "  0%|                                                                           | 0/25 [00:00<?, ?it/s]/home/anna/miniconda3/envs/ap/lib/python3.10/site-packages/torch/nn/modules/module.py:1053: UserWarning: Using a non-full backward hook when the forward contains multiple autograd Nodes is deprecated and will be removed in future versions. This hook will be missing some grad_input. Please use register_full_backward_hook to get the documented behavior.\n",
      "  warnings.warn(\"Using a non-full backward hook when the forward contains multiple autograd Nodes \"\n",
      "100%|██████████████████████████████████████████████████████████████████| 25/25 [00:16<00:00,  1.56it/s]\n"
     ]
    },
    {
     "name": "stdout",
     "output_type": "stream",
     "text": [
      "1.4516589401482833\n",
      "Experiment non_adv+dp+2048: Epoch   1/50, train loss: 3.66e+00, train acc: 0.187\n"
     ]
    },
    {
     "name": "stderr",
     "output_type": "stream",
     "text": [
      "100%|██████████████████████████████████████████████████████████████████| 25/25 [00:15<00:00,  1.66it/s]\n"
     ]
    },
    {
     "name": "stdout",
     "output_type": "stream",
     "text": [
      "1.747758124352123\n",
      "Experiment non_adv+dp+2048: Epoch   2/50, train loss: 2.01e+00, train acc: 0.312\n"
     ]
    },
    {
     "name": "stderr",
     "output_type": "stream",
     "text": [
      "100%|██████████████████████████████████████████████████████████████████| 25/25 [00:14<00:00,  1.73it/s]\n"
     ]
    },
    {
     "name": "stdout",
     "output_type": "stream",
     "text": [
      "1.999566972341222\n",
      "Experiment non_adv+dp+2048: Epoch   3/50, train loss: 1.96e+00, train acc: 0.370\n"
     ]
    },
    {
     "name": "stderr",
     "output_type": "stream",
     "text": [
      "100%|██████████████████████████████████████████████████████████████████| 25/25 [00:14<00:00,  1.72it/s]\n"
     ]
    },
    {
     "name": "stdout",
     "output_type": "stream",
     "text": [
      "2.224891133367204\n",
      "Experiment non_adv+dp+2048: Epoch   4/50, train loss: 1.84e+00, train acc: 0.421\n"
     ]
    },
    {
     "name": "stderr",
     "output_type": "stream",
     "text": [
      "100%|██████████████████████████████████████████████████████████████████| 25/25 [00:14<00:00,  1.72it/s]\n"
     ]
    },
    {
     "name": "stdout",
     "output_type": "stream",
     "text": [
      "2.4316134424082634\n",
      "Experiment non_adv+dp+2048: Epoch   5/50, train loss: 1.86e+00, train acc: 0.445\n"
     ]
    },
    {
     "name": "stderr",
     "output_type": "stream",
     "text": [
      "100%|██████████████████████████████████████████████████████████████████| 25/25 [00:15<00:00,  1.64it/s]\n"
     ]
    },
    {
     "name": "stdout",
     "output_type": "stream",
     "text": [
      "2.6240793638109987\n",
      "Experiment non_adv+dp+2048: Epoch   6/50, train loss: 1.77e+00, train acc: 0.476\n"
     ]
    },
    {
     "name": "stderr",
     "output_type": "stream",
     "text": [
      "100%|██████████████████████████████████████████████████████████████████| 25/25 [00:14<00:00,  1.73it/s]\n"
     ]
    },
    {
     "name": "stdout",
     "output_type": "stream",
     "text": [
      "2.8048329218833166\n",
      "Experiment non_adv+dp+2048: Epoch   7/50, train loss: 1.79e+00, train acc: 0.486\n"
     ]
    },
    {
     "name": "stderr",
     "output_type": "stream",
     "text": [
      "100%|██████████████████████████████████████████████████████████████████| 25/25 [00:14<00:00,  1.71it/s]\n"
     ]
    },
    {
     "name": "stdout",
     "output_type": "stream",
     "text": [
      "2.9761057507372533\n",
      "Experiment non_adv+dp+2048: Epoch   8/50, train loss: 1.68e+00, train acc: 0.515\n"
     ]
    },
    {
     "name": "stderr",
     "output_type": "stream",
     "text": [
      "100%|██████████████████████████████████████████████████████████████████| 25/25 [00:14<00:00,  1.72it/s]\n"
     ]
    },
    {
     "name": "stdout",
     "output_type": "stream",
     "text": [
      "3.1394045326345137\n",
      "Experiment non_adv+dp+2048: Epoch   9/50, train loss: 1.70e+00, train acc: 0.526\n"
     ]
    },
    {
     "name": "stderr",
     "output_type": "stream",
     "text": [
      "100%|██████████████████████████████████████████████████████████████████| 25/25 [00:14<00:00,  1.71it/s]\n"
     ]
    },
    {
     "name": "stdout",
     "output_type": "stream",
     "text": [
      "3.295542796385861\n",
      "Experiment non_adv+dp+2048: Epoch  10/50, train loss: 1.71e+00, train acc: 0.532\n"
     ]
    },
    {
     "name": "stderr",
     "output_type": "stream",
     "text": [
      "100%|██████████████████████████████████████████████████████████████████| 25/25 [00:14<00:00,  1.71it/s]\n"
     ]
    },
    {
     "name": "stdout",
     "output_type": "stream",
     "text": [
      "3.446241126024633\n",
      "Experiment non_adv+dp+2048: Epoch  11/50, train loss: 1.64e+00, train acc: 0.550\n"
     ]
    },
    {
     "name": "stderr",
     "output_type": "stream",
     "text": [
      "100%|██████████████████████████████████████████████████████████████████| 25/25 [00:14<00:00,  1.71it/s]\n"
     ]
    },
    {
     "name": "stdout",
     "output_type": "stream",
     "text": [
      "3.5910552602569976\n",
      "Experiment non_adv+dp+2048: Epoch  12/50, train loss: 1.63e+00, train acc: 0.561\n"
     ]
    },
    {
     "name": "stderr",
     "output_type": "stream",
     "text": [
      "100%|██████████████████████████████████████████████████████████████████| 25/25 [00:14<00:00,  1.71it/s]\n"
     ]
    },
    {
     "name": "stdout",
     "output_type": "stream",
     "text": [
      "3.731449184805569\n",
      "Experiment non_adv+dp+2048: Epoch  13/50, train loss: 1.59e+00, train acc: 0.573\n"
     ]
    },
    {
     "name": "stderr",
     "output_type": "stream",
     "text": [
      "100%|██████████████████████████████████████████████████████████████████| 25/25 [00:14<00:00,  1.72it/s]\n"
     ]
    },
    {
     "name": "stdout",
     "output_type": "stream",
     "text": [
      "3.8677404105245627\n",
      "Experiment non_adv+dp+2048: Epoch  14/50, train loss: 1.56e+00, train acc: 0.584\n"
     ]
    },
    {
     "name": "stderr",
     "output_type": "stream",
     "text": [
      "100%|██████████████████████████████████████████████████████████████████| 25/25 [00:15<00:00,  1.65it/s]\n"
     ]
    },
    {
     "name": "stdout",
     "output_type": "stream",
     "text": [
      "4.0002372672404105\n",
      "Experiment non_adv+dp+2048: Epoch  15/50, train loss: 1.55e+00, train acc: 0.591\n"
     ]
    },
    {
     "name": "stderr",
     "output_type": "stream",
     "text": [
      "100%|██████████████████████████████████████████████████████████████████| 25/25 [00:14<00:00,  1.70it/s]\n"
     ]
    },
    {
     "name": "stdout",
     "output_type": "stream",
     "text": [
      "4.129252095818283\n",
      "Experiment non_adv+dp+2048: Epoch  16/50, train loss: 1.50e+00, train acc: 0.603\n"
     ]
    },
    {
     "name": "stderr",
     "output_type": "stream",
     "text": [
      "100%|██████████████████████████████████████████████████████████████████| 25/25 [00:14<00:00,  1.71it/s]\n"
     ]
    },
    {
     "name": "stdout",
     "output_type": "stream",
     "text": [
      "4.255103895619909\n",
      "Experiment non_adv+dp+2048: Epoch  17/50, train loss: 1.49e+00, train acc: 0.607\n"
     ]
    },
    {
     "name": "stderr",
     "output_type": "stream",
     "text": [
      "100%|██████████████████████████████████████████████████████████████████| 25/25 [00:14<00:00,  1.69it/s]\n"
     ]
    },
    {
     "name": "stdout",
     "output_type": "stream",
     "text": [
      "4.378121090275399\n",
      "Experiment non_adv+dp+2048: Epoch  18/50, train loss: 1.45e+00, train acc: 0.618\n"
     ]
    },
    {
     "name": "stderr",
     "output_type": "stream",
     "text": [
      "100%|██████████████████████████████████████████████████████████████████| 25/25 [00:14<00:00,  1.71it/s]\n"
     ]
    },
    {
     "name": "stdout",
     "output_type": "stream",
     "text": [
      "4.498644475448194\n",
      "Experiment non_adv+dp+2048: Epoch  19/50, train loss: 1.43e+00, train acc: 0.628\n"
     ]
    },
    {
     "name": "stderr",
     "output_type": "stream",
     "text": [
      "100%|██████████████████████████████████████████████████████████████████| 25/25 [00:14<00:00,  1.73it/s]\n"
     ]
    },
    {
     "name": "stdout",
     "output_type": "stream",
     "text": [
      "4.616850588007582\n",
      "Experiment non_adv+dp+2048: Epoch  20/50, train loss: 1.42e+00, train acc: 0.634\n"
     ]
    },
    {
     "name": "stderr",
     "output_type": "stream",
     "text": [
      "100%|██████████████████████████████████████████████████████████████████| 25/25 [00:14<00:00,  1.70it/s]\n"
     ]
    },
    {
     "name": "stdout",
     "output_type": "stream",
     "text": [
      "4.732068073092045\n",
      "Experiment non_adv+dp+2048: Epoch  21/50, train loss: 1.42e+00, train acc: 0.637\n"
     ]
    },
    {
     "name": "stderr",
     "output_type": "stream",
     "text": [
      "100%|██████████████████████████████████████████████████████████████████| 25/25 [00:14<00:00,  1.72it/s]\n"
     ]
    },
    {
     "name": "stdout",
     "output_type": "stream",
     "text": [
      "4.845575604666275\n",
      "Experiment non_adv+dp+2048: Epoch  22/50, train loss: 1.36e+00, train acc: 0.649\n"
     ]
    },
    {
     "name": "stderr",
     "output_type": "stream",
     "text": [
      "100%|██████████████████████████████████████████████████████████████████| 25/25 [00:14<00:00,  1.71it/s]\n"
     ]
    },
    {
     "name": "stdout",
     "output_type": "stream",
     "text": [
      "4.957496826976863\n",
      "Experiment non_adv+dp+2048: Epoch  23/50, train loss: 1.37e+00, train acc: 0.650\n"
     ]
    },
    {
     "name": "stderr",
     "output_type": "stream",
     "text": [
      "100%|██████████████████████████████████████████████████████████████████| 25/25 [00:14<00:00,  1.71it/s]\n"
     ]
    },
    {
     "name": "stdout",
     "output_type": "stream",
     "text": [
      "5.066624261602634\n",
      "Experiment non_adv+dp+2048: Epoch  24/50, train loss: 1.38e+00, train acc: 0.653\n"
     ]
    },
    {
     "name": "stderr",
     "output_type": "stream",
     "text": [
      "100%|██████████████████████████████████████████████████████████████████| 25/25 [00:14<00:00,  1.72it/s]\n"
     ]
    },
    {
     "name": "stdout",
     "output_type": "stream",
     "text": [
      "5.174910099204971\n",
      "Experiment non_adv+dp+2048: Epoch  25/50, train loss: 1.28e+00, train acc: 0.671\n"
     ]
    },
    {
     "name": "stderr",
     "output_type": "stream",
     "text": [
      "100%|██████████████████████████████████████████████████████████████████| 25/25 [00:14<00:00,  1.70it/s]\n"
     ]
    },
    {
     "name": "stdout",
     "output_type": "stream",
     "text": [
      "5.28074618858921\n",
      "Experiment non_adv+dp+2048: Epoch  26/50, train loss: 1.35e+00, train acc: 0.665\n"
     ]
    },
    {
     "name": "stderr",
     "output_type": "stream",
     "text": [
      "100%|██████████████████████████████████████████████████████████████████| 25/25 [00:14<00:00,  1.71it/s]\n"
     ]
    },
    {
     "name": "stdout",
     "output_type": "stream",
     "text": [
      "5.385672864047911\n",
      "Experiment non_adv+dp+2048: Epoch  27/50, train loss: 1.31e+00, train acc: 0.675\n"
     ]
    },
    {
     "name": "stderr",
     "output_type": "stream",
     "text": [
      "100%|██████████████████████████████████████████████████████████████████| 25/25 [00:14<00:00,  1.71it/s]\n"
     ]
    },
    {
     "name": "stdout",
     "output_type": "stream",
     "text": [
      "5.488536434999836\n",
      "Experiment non_adv+dp+2048: Epoch  28/50, train loss: 1.29e+00, train acc: 0.679\n"
     ]
    },
    {
     "name": "stderr",
     "output_type": "stream",
     "text": [
      "100%|██████████████████████████████████████████████████████████████████| 25/25 [00:14<00:00,  1.71it/s]\n"
     ]
    },
    {
     "name": "stdout",
     "output_type": "stream",
     "text": [
      "5.590686394827535\n",
      "Experiment non_adv+dp+2048: Epoch  29/50, train loss: 1.28e+00, train acc: 0.681\n"
     ]
    },
    {
     "name": "stderr",
     "output_type": "stream",
     "text": [
      "100%|██████████████████████████████████████████████████████████████████| 25/25 [00:14<00:00,  1.71it/s]\n"
     ]
    },
    {
     "name": "stdout",
     "output_type": "stream",
     "text": [
      "5.6906218085191655\n",
      "Experiment non_adv+dp+2048: Epoch  30/50, train loss: 1.27e+00, train acc: 0.686\n"
     ]
    },
    {
     "name": "stderr",
     "output_type": "stream",
     "text": [
      "100%|██████████████████████████████████████████████████████████████████| 25/25 [00:14<00:00,  1.70it/s]\n"
     ]
    },
    {
     "name": "stdout",
     "output_type": "stream",
     "text": [
      "5.790557222210795\n",
      "Experiment non_adv+dp+2048: Epoch  31/50, train loss: 1.26e+00, train acc: 0.690\n"
     ]
    },
    {
     "name": "stderr",
     "output_type": "stream",
     "text": [
      "100%|██████████████████████████████████████████████████████████████████| 25/25 [00:14<00:00,  1.72it/s]\n"
     ]
    },
    {
     "name": "stdout",
     "output_type": "stream",
     "text": [
      "5.88766830097423\n",
      "Experiment non_adv+dp+2048: Epoch  32/50, train loss: 1.26e+00, train acc: 0.694\n"
     ]
    },
    {
     "name": "stderr",
     "output_type": "stream",
     "text": [
      "100%|██████████████████████████████████████████████████████████████████| 25/25 [00:14<00:00,  1.71it/s]\n"
     ]
    },
    {
     "name": "stdout",
     "output_type": "stream",
     "text": [
      "5.984718304571707\n",
      "Experiment non_adv+dp+2048: Epoch  33/50, train loss: 1.26e+00, train acc: 0.694\n"
     ]
    },
    {
     "name": "stderr",
     "output_type": "stream",
     "text": [
      "100%|██████████████████████████████████████████████████████████████████| 25/25 [00:14<00:00,  1.71it/s]\n"
     ]
    },
    {
     "name": "stdout",
     "output_type": "stream",
     "text": [
      "6.080389667791101\n",
      "Experiment non_adv+dp+2048: Epoch  34/50, train loss: 1.26e+00, train acc: 0.695\n"
     ]
    },
    {
     "name": "stderr",
     "output_type": "stream",
     "text": [
      "100%|██████████████████████████████████████████████████████████████████| 25/25 [00:14<00:00,  1.72it/s]\n"
     ]
    },
    {
     "name": "stdout",
     "output_type": "stream",
     "text": [
      "6.174595493956526\n",
      "Experiment non_adv+dp+2048: Epoch  35/50, train loss: 1.27e+00, train acc: 0.698\n"
     ]
    },
    {
     "name": "stderr",
     "output_type": "stream",
     "text": [
      "100%|██████████████████████████████████████████████████████████████████| 25/25 [00:14<00:00,  1.71it/s]\n"
     ]
    },
    {
     "name": "stdout",
     "output_type": "stream",
     "text": [
      "6.268801320121951\n",
      "Experiment non_adv+dp+2048: Epoch  36/50, train loss: 1.29e+00, train acc: 0.695\n"
     ]
    },
    {
     "name": "stderr",
     "output_type": "stream",
     "text": [
      "100%|██████████████████████████████████████████████████████████████████| 25/25 [00:14<00:00,  1.71it/s]\n"
     ]
    },
    {
     "name": "stdout",
     "output_type": "stream",
     "text": [
      "6.360958913287868\n",
      "Experiment non_adv+dp+2048: Epoch  37/50, train loss: 1.21e+00, train acc: 0.710\n"
     ]
    },
    {
     "name": "stderr",
     "output_type": "stream",
     "text": [
      "100%|██████████████████████████████████████████████████████████████████| 25/25 [00:14<00:00,  1.71it/s]\n"
     ]
    },
    {
     "name": "stdout",
     "output_type": "stream",
     "text": [
      "6.452360371115347\n",
      "Experiment non_adv+dp+2048: Epoch  38/50, train loss: 1.29e+00, train acc: 0.699\n"
     ]
    },
    {
     "name": "stderr",
     "output_type": "stream",
     "text": [
      "100%|██████████████████████████████████████████████████████████████████| 25/25 [00:14<00:00,  1.71it/s]\n"
     ]
    },
    {
     "name": "stdout",
     "output_type": "stream",
     "text": [
      "6.543761828942825\n",
      "Experiment non_adv+dp+2048: Epoch  39/50, train loss: 1.21e+00, train acc: 0.713\n"
     ]
    },
    {
     "name": "stderr",
     "output_type": "stream",
     "text": [
      "100%|██████████████████████████████████████████████████████████████████| 25/25 [00:14<00:00,  1.70it/s]\n"
     ]
    },
    {
     "name": "stdout",
     "output_type": "stream",
     "text": [
      "6.633283961498917\n",
      "Experiment non_adv+dp+2048: Epoch  40/50, train loss: 1.19e+00, train acc: 0.714\n"
     ]
    },
    {
     "name": "stderr",
     "output_type": "stream",
     "text": [
      "100%|██████████████████████████████████████████████████████████████████| 25/25 [00:14<00:00,  1.70it/s]\n"
     ]
    },
    {
     "name": "stdout",
     "output_type": "stream",
     "text": [
      "6.721919519815599\n",
      "Experiment non_adv+dp+2048: Epoch  41/50, train loss: 1.20e+00, train acc: 0.716\n"
     ]
    },
    {
     "name": "stderr",
     "output_type": "stream",
     "text": [
      "100%|██████████████████████████████████████████████████████████████████| 25/25 [00:14<00:00,  1.72it/s]\n"
     ]
    },
    {
     "name": "stdout",
     "output_type": "stream",
     "text": [
      "6.81055507813228\n",
      "Experiment non_adv+dp+2048: Epoch  42/50, train loss: 1.18e+00, train acc: 0.721\n"
     ]
    },
    {
     "name": "stderr",
     "output_type": "stream",
     "text": [
      "100%|██████████████████████████████████████████████████████████████████| 25/25 [00:14<00:00,  1.71it/s]\n"
     ]
    },
    {
     "name": "stdout",
     "output_type": "stream",
     "text": [
      "6.898401367063894\n",
      "Experiment non_adv+dp+2048: Epoch  43/50, train loss: 1.26e+00, train acc: 0.709\n"
     ]
    },
    {
     "name": "stderr",
     "output_type": "stream",
     "text": [
      "100%|██████████████████████████████████████████████████████████████████| 25/25 [00:14<00:00,  1.70it/s]\n"
     ]
    },
    {
     "name": "stdout",
     "output_type": "stream",
     "text": [
      "6.98430823089281\n",
      "Experiment non_adv+dp+2048: Epoch  44/50, train loss: 1.21e+00, train acc: 0.717\n"
     ]
    },
    {
     "name": "stderr",
     "output_type": "stream",
     "text": [
      "100%|██████████████████████████████████████████████████████████████████| 25/25 [00:14<00:00,  1.72it/s]\n"
     ]
    },
    {
     "name": "stdout",
     "output_type": "stream",
     "text": [
      "7.070215094721727\n",
      "Experiment non_adv+dp+2048: Epoch  45/50, train loss: 1.15e+00, train acc: 0.729\n"
     ]
    },
    {
     "name": "stderr",
     "output_type": "stream",
     "text": [
      "100%|██████████████████████████████████████████████████████████████████| 25/25 [00:14<00:00,  1.71it/s]\n"
     ]
    },
    {
     "name": "stdout",
     "output_type": "stream",
     "text": [
      "7.156121958550642\n",
      "Experiment non_adv+dp+2048: Epoch  46/50, train loss: 1.15e+00, train acc: 0.729\n"
     ]
    },
    {
     "name": "stderr",
     "output_type": "stream",
     "text": [
      "100%|██████████████████████████████████████████████████████████████████| 25/25 [00:14<00:00,  1.71it/s]\n"
     ]
    },
    {
     "name": "stdout",
     "output_type": "stream",
     "text": [
      "7.240657851908943\n",
      "Experiment non_adv+dp+2048: Epoch  47/50, train loss: 1.15e+00, train acc: 0.729\n"
     ]
    },
    {
     "name": "stderr",
     "output_type": "stream",
     "text": [
      "100%|██████████████████████████████████████████████████████████████████| 25/25 [00:14<00:00,  1.71it/s]\n"
     ]
    },
    {
     "name": "stdout",
     "output_type": "stream",
     "text": [
      "7.323872032804464\n",
      "Experiment non_adv+dp+2048: Epoch  48/50, train loss: 1.16e+00, train acc: 0.730\n"
     ]
    },
    {
     "name": "stderr",
     "output_type": "stream",
     "text": [
      "100%|██████████████████████████████████████████████████████████████████| 25/25 [00:14<00:00,  1.71it/s]\n"
     ]
    },
    {
     "name": "stdout",
     "output_type": "stream",
     "text": [
      "7.407086213699984\n",
      "Experiment non_adv+dp+2048: Epoch  49/50, train loss: 1.12e+00, train acc: 0.738\n"
     ]
    },
    {
     "name": "stderr",
     "output_type": "stream",
     "text": [
      "100%|██████████████████████████████████████████████████████████████████| 25/25 [00:14<00:00,  1.72it/s]\n"
     ]
    },
    {
     "name": "stdout",
     "output_type": "stream",
     "text": [
      "7.490300394595504\n",
      "Experiment non_adv+dp+2048: Epoch  50/50, train loss: 1.17e+00, train acc: 0.730\n",
      "Experiment non_adv+dp+2048: Training finished\n",
      "7.490300394595504\n"
     ]
    },
    {
     "data": {
      "image/png": "[encoded data removed]",
      "text/plain": [
       "<Figure size 640x480 with 1 Axes>"
      ]
     },
     "metadata": {},
     "output_type": "display_data"
    },
    {
     "data": {
      "image/png": "[encoded data removed]",
      "text/plain": [
       "<Figure size 640x480 with 1 Axes>"
      ]
     },
     "metadata": {},
     "output_type": "display_data"
    }
   ],
   "source": [
    "import torch\n",
    "# max 1.2 eps 7.5\n",
    "\n",
    "device = torch.device('cuda') if torch.cuda.is_available() else torch.device('cpu')\n",
    "print(device)\n",
    "\n",
    "batch_size=2048\n",
    "adv_attack_mode ='batch'\n",
    "epsilon=0.1\n",
    "dp=True\n",
    "epochs = 50\n",
    "patience = 50\n",
    "save_experiment=False \n",
    "verbose=True\n",
    "\n",
    "adv_attack = None\n",
    "\n",
    "experiment = Experiment(\n",
    "    batch_size=batch_size, \n",
    "    epochs=epochs, \n",
    "    patience=patience, \n",
    "    adv_attack=adv_attack, \n",
    "    adv_attack_mode=None, \n",
    "    epsilon=epsilon, \n",
    "    dp=dp, \n",
    "    device=device, \n",
    "    save_experiment=save_experiment, \n",
    "    verbose=verbose, \n",
    "    adv_test=False)\n",
    "\n",
    "experiment._fit()"
   ]
  },
  {
   "cell_type": "code",
   "execution_count": 3,
   "id": "96e12b56",
   "metadata": {},
   "outputs": [
    {
     "data": {
      "text/plain": [
       "(1.3303881508045614, 0.697, 0.9726)"
      ]
     },
     "execution_count": 3,
     "metadata": {},
     "output_type": "execute_result"
    }
   ],
   "source": [
    "experiment._validate(experiment.test_loader)"
   ]
  },
  {
   "cell_type": "code",
   "execution_count": 2,
   "id": "26184138",
   "metadata": {},
   "outputs": [
    {
     "name": "stdout",
     "output_type": "stream",
     "text": [
      "cuda\n",
      "Experiment adv-0.1-batch+dp+2048: Loading data\n",
      "Files already downloaded and verified\n",
      "Files already downloaded and verified\n",
      "Experiment adv-0.1-batch+dp+2048: DP on\n"
     ]
    },
    {
     "name": "stderr",
     "output_type": "stream",
     "text": [
      "/home/anna/miniconda3/envs/ap/lib/python3.10/site-packages/opacus/privacy_engine.py:141: UserWarning: Secure RNG turned off. This is perfectly fine for experimentation as it allows for much faster training performance, but remember to turn it on and retrain one last time before production with ``secure_mode`` turned on.\n",
      "  warnings.warn(\n"
     ]
    },
    {
     "name": "stdout",
     "output_type": "stream",
     "text": [
      "Experiment adv-0.1-batch+dp+2048: Training started\n"
     ]
    },
    {
     "name": "stderr",
     "output_type": "stream",
     "text": [
      "  0%|                                                                        | 0/25 [00:00<?, ?it/s]/home/anna/miniconda3/envs/ap/lib/python3.10/site-packages/torch/nn/modules/module.py:1053: UserWarning: Using a non-full backward hook when the forward contains multiple autograd Nodes is deprecated and will be removed in future versions. This hook will be missing some grad_input. Please use register_full_backward_hook to get the documented behavior.\n",
      "  warnings.warn(\"Using a non-full backward hook when the forward contains multiple autograd Nodes \"\n",
      "100%|███████████████████████████████████████████████████████████████| 25/25 [00:22<00:00,  1.13it/s]\n"
     ]
    },
    {
     "name": "stdout",
     "output_type": "stream",
     "text": [
      "1.4516589401482833\n",
      "Experiment adv-0.1-batch+dp+2048: Epoch   1/50, train loss: 3.90e+00, train acc: 0.105\n"
     ]
    },
    {
     "name": "stderr",
     "output_type": "stream",
     "text": [
      "100%|███████████████████████████████████████████████████████████████| 25/25 [00:19<00:00,  1.28it/s]\n"
     ]
    },
    {
     "name": "stdout",
     "output_type": "stream",
     "text": [
      "1.747758124352123\n",
      "Experiment adv-0.1-batch+dp+2048: Epoch   2/50, train loss: 2.40e+00, train acc: 0.172\n"
     ]
    },
    {
     "name": "stderr",
     "output_type": "stream",
     "text": [
      "100%|███████████████████████████████████████████████████████████████| 25/25 [00:19<00:00,  1.28it/s]\n"
     ]
    },
    {
     "name": "stdout",
     "output_type": "stream",
     "text": [
      "1.999566972341222\n",
      "Experiment adv-0.1-batch+dp+2048: Epoch   3/50, train loss: 2.31e+00, train acc: 0.214\n"
     ]
    },
    {
     "name": "stderr",
     "output_type": "stream",
     "text": [
      "100%|███████████████████████████████████████████████████████████████| 25/25 [00:19<00:00,  1.26it/s]\n"
     ]
    },
    {
     "name": "stdout",
     "output_type": "stream",
     "text": [
      "2.224891133367204\n",
      "Experiment adv-0.1-batch+dp+2048: Epoch   4/50, train loss: 2.30e+00, train acc: 0.234\n"
     ]
    },
    {
     "name": "stderr",
     "output_type": "stream",
     "text": [
      "100%|███████████████████████████████████████████████████████████████| 25/25 [00:20<00:00,  1.22it/s]\n"
     ]
    },
    {
     "name": "stdout",
     "output_type": "stream",
     "text": [
      "2.4316134424082634\n",
      "Experiment adv-0.1-batch+dp+2048: Epoch   5/50, train loss: 2.22e+00, train acc: 0.250\n"
     ]
    },
    {
     "name": "stderr",
     "output_type": "stream",
     "text": [
      "100%|███████████████████████████████████████████████████████████████| 25/25 [00:19<00:00,  1.28it/s]\n"
     ]
    },
    {
     "name": "stdout",
     "output_type": "stream",
     "text": [
      "2.6240793638109987\n",
      "Experiment adv-0.1-batch+dp+2048: Epoch   6/50, train loss: 2.16e+00, train acc: 0.268\n"
     ]
    },
    {
     "name": "stderr",
     "output_type": "stream",
     "text": [
      "100%|███████████████████████████████████████████████████████████████| 25/25 [00:20<00:00,  1.22it/s]\n"
     ]
    },
    {
     "name": "stdout",
     "output_type": "stream",
     "text": [
      "2.8048329218833166\n",
      "Experiment adv-0.1-batch+dp+2048: Epoch   7/50, train loss: 2.22e+00, train acc: 0.270\n"
     ]
    },
    {
     "name": "stderr",
     "output_type": "stream",
     "text": [
      "100%|███████████████████████████████████████████████████████████████| 25/25 [00:19<00:00,  1.26it/s]\n"
     ]
    },
    {
     "name": "stdout",
     "output_type": "stream",
     "text": [
      "2.9761057507372533\n",
      "Experiment adv-0.1-batch+dp+2048: Epoch   8/50, train loss: 2.12e+00, train acc: 0.279\n"
     ]
    },
    {
     "name": "stderr",
     "output_type": "stream",
     "text": [
      "100%|███████████████████████████████████████████████████████████████| 25/25 [00:19<00:00,  1.26it/s]\n"
     ]
    },
    {
     "name": "stdout",
     "output_type": "stream",
     "text": [
      "3.1394045326345137\n",
      "Experiment adv-0.1-batch+dp+2048: Epoch   9/50, train loss: 2.15e+00, train acc: 0.287\n"
     ]
    },
    {
     "name": "stderr",
     "output_type": "stream",
     "text": [
      "100%|███████████████████████████████████████████████████████████████| 25/25 [00:19<00:00,  1.26it/s]\n"
     ]
    },
    {
     "name": "stdout",
     "output_type": "stream",
     "text": [
      "3.295542796385861\n",
      "Experiment adv-0.1-batch+dp+2048: Epoch  10/50, train loss: 2.10e+00, train acc: 0.293\n"
     ]
    },
    {
     "name": "stderr",
     "output_type": "stream",
     "text": [
      "100%|███████████████████████████████████████████████████████████████| 25/25 [00:19<00:00,  1.25it/s]\n"
     ]
    },
    {
     "name": "stdout",
     "output_type": "stream",
     "text": [
      "3.446241126024633\n",
      "Experiment adv-0.1-batch+dp+2048: Epoch  11/50, train loss: 2.04e+00, train acc: 0.305\n"
     ]
    },
    {
     "name": "stderr",
     "output_type": "stream",
     "text": [
      "100%|███████████████████████████████████████████████████████████████| 25/25 [00:19<00:00,  1.26it/s]\n"
     ]
    },
    {
     "name": "stdout",
     "output_type": "stream",
     "text": [
      "3.5910552602569976\n",
      "Experiment adv-0.1-batch+dp+2048: Epoch  12/50, train loss: 2.15e+00, train acc: 0.294\n"
     ]
    },
    {
     "name": "stderr",
     "output_type": "stream",
     "text": [
      "100%|███████████████████████████████████████████████████████████████| 25/25 [00:19<00:00,  1.26it/s]\n"
     ]
    },
    {
     "name": "stdout",
     "output_type": "stream",
     "text": [
      "3.731449184805569\n",
      "Experiment adv-0.1-batch+dp+2048: Epoch  13/50, train loss: 2.07e+00, train acc: 0.308\n"
     ]
    },
    {
     "name": "stderr",
     "output_type": "stream",
     "text": [
      "100%|███████████████████████████████████████████████████████████████| 25/25 [00:19<00:00,  1.25it/s]\n"
     ]
    },
    {
     "name": "stdout",
     "output_type": "stream",
     "text": [
      "3.8677404105245627\n",
      "Experiment adv-0.1-batch+dp+2048: Epoch  14/50, train loss: 2.02e+00, train acc: 0.319\n"
     ]
    },
    {
     "name": "stderr",
     "output_type": "stream",
     "text": [
      "100%|███████████████████████████████████████████████████████████████| 25/25 [00:19<00:00,  1.27it/s]\n"
     ]
    },
    {
     "name": "stdout",
     "output_type": "stream",
     "text": [
      "4.0002372672404105\n",
      "Experiment adv-0.1-batch+dp+2048: Epoch  15/50, train loss: 2.05e+00, train acc: 0.318\n"
     ]
    },
    {
     "name": "stderr",
     "output_type": "stream",
     "text": [
      "100%|███████████████████████████████████████████████████████████████| 25/25 [00:19<00:00,  1.27it/s]\n"
     ]
    },
    {
     "name": "stdout",
     "output_type": "stream",
     "text": [
      "4.129252095818283\n",
      "Experiment adv-0.1-batch+dp+2048: Epoch  16/50, train loss: 2.04e+00, train acc: 0.325\n"
     ]
    },
    {
     "name": "stderr",
     "output_type": "stream",
     "text": [
      "100%|███████████████████████████████████████████████████████████████| 25/25 [00:19<00:00,  1.26it/s]\n"
     ]
    },
    {
     "name": "stdout",
     "output_type": "stream",
     "text": [
      "4.255103895619909\n",
      "Experiment adv-0.1-batch+dp+2048: Epoch  17/50, train loss: 2.01e+00, train acc: 0.333\n"
     ]
    },
    {
     "name": "stderr",
     "output_type": "stream",
     "text": [
      "100%|███████████████████████████████████████████████████████████████| 25/25 [00:19<00:00,  1.27it/s]\n"
     ]
    },
    {
     "name": "stdout",
     "output_type": "stream",
     "text": [
      "4.378121090275399\n",
      "Experiment adv-0.1-batch+dp+2048: Epoch  18/50, train loss: 2.03e+00, train acc: 0.328\n"
     ]
    },
    {
     "name": "stderr",
     "output_type": "stream",
     "text": [
      "100%|███████████████████████████████████████████████████████████████| 25/25 [00:19<00:00,  1.27it/s]\n"
     ]
    },
    {
     "name": "stdout",
     "output_type": "stream",
     "text": [
      "4.498644475448194\n",
      "Experiment adv-0.1-batch+dp+2048: Epoch  19/50, train loss: 1.99e+00, train acc: 0.335\n"
     ]
    },
    {
     "name": "stderr",
     "output_type": "stream",
     "text": [
      "100%|███████████████████████████████████████████████████████████████| 25/25 [00:19<00:00,  1.26it/s]\n"
     ]
    },
    {
     "name": "stdout",
     "output_type": "stream",
     "text": [
      "4.616850588007582\n",
      "Experiment adv-0.1-batch+dp+2048: Epoch  20/50, train loss: 2.01e+00, train acc: 0.335\n"
     ]
    },
    {
     "name": "stderr",
     "output_type": "stream",
     "text": [
      "100%|███████████████████████████████████████████████████████████████| 25/25 [00:19<00:00,  1.26it/s]\n"
     ]
    },
    {
     "name": "stdout",
     "output_type": "stream",
     "text": [
      "4.732068073092045\n",
      "Experiment adv-0.1-batch+dp+2048: Epoch  21/50, train loss: 1.99e+00, train acc: 0.340\n"
     ]
    },
    {
     "name": "stderr",
     "output_type": "stream",
     "text": [
      "100%|███████████████████████████████████████████████████████████████| 25/25 [00:19<00:00,  1.27it/s]\n"
     ]
    },
    {
     "name": "stdout",
     "output_type": "stream",
     "text": [
      "4.845575604666275\n",
      "Experiment adv-0.1-batch+dp+2048: Epoch  22/50, train loss: 1.97e+00, train acc: 0.346\n"
     ]
    },
    {
     "name": "stderr",
     "output_type": "stream",
     "text": [
      "100%|███████████████████████████████████████████████████████████████| 25/25 [00:19<00:00,  1.27it/s]\n"
     ]
    },
    {
     "name": "stdout",
     "output_type": "stream",
     "text": [
      "4.957496826976863\n",
      "Experiment adv-0.1-batch+dp+2048: Epoch  23/50, train loss: 1.98e+00, train acc: 0.351\n"
     ]
    },
    {
     "name": "stderr",
     "output_type": "stream",
     "text": [
      "100%|███████████████████████████████████████████████████████████████| 25/25 [00:19<00:00,  1.26it/s]\n"
     ]
    },
    {
     "name": "stdout",
     "output_type": "stream",
     "text": [
      "5.066624261602634\n",
      "Experiment adv-0.1-batch+dp+2048: Epoch  24/50, train loss: 2.01e+00, train acc: 0.346\n"
     ]
    },
    {
     "name": "stderr",
     "output_type": "stream",
     "text": [
      "100%|███████████████████████████████████████████████████████████████| 25/25 [00:19<00:00,  1.26it/s]\n"
     ]
    },
    {
     "name": "stdout",
     "output_type": "stream",
     "text": [
      "5.174910099204971\n",
      "Experiment adv-0.1-batch+dp+2048: Epoch  25/50, train loss: 1.96e+00, train acc: 0.358\n"
     ]
    },
    {
     "name": "stderr",
     "output_type": "stream",
     "text": [
      "100%|███████████████████████████████████████████████████████████████| 25/25 [00:19<00:00,  1.25it/s]\n"
     ]
    },
    {
     "name": "stdout",
     "output_type": "stream",
     "text": [
      "5.28074618858921\n",
      "Experiment adv-0.1-batch+dp+2048: Epoch  26/50, train loss: 1.96e+00, train acc: 0.357\n"
     ]
    },
    {
     "name": "stderr",
     "output_type": "stream",
     "text": [
      "100%|███████████████████████████████████████████████████████████████| 25/25 [00:19<00:00,  1.27it/s]\n"
     ]
    },
    {
     "name": "stdout",
     "output_type": "stream",
     "text": [
      "5.385672864047911\n",
      "Experiment adv-0.1-batch+dp+2048: Epoch  27/50, train loss: 1.99e+00, train acc: 0.355\n"
     ]
    },
    {
     "name": "stderr",
     "output_type": "stream",
     "text": [
      "100%|███████████████████████████████████████████████████████████████| 25/25 [00:19<00:00,  1.27it/s]\n"
     ]
    },
    {
     "name": "stdout",
     "output_type": "stream",
     "text": [
      "5.488536434999836\n",
      "Experiment adv-0.1-batch+dp+2048: Epoch  28/50, train loss: 1.93e+00, train acc: 0.367\n"
     ]
    },
    {
     "name": "stderr",
     "output_type": "stream",
     "text": [
      "100%|███████████████████████████████████████████████████████████████| 25/25 [00:19<00:00,  1.26it/s]\n"
     ]
    },
    {
     "name": "stdout",
     "output_type": "stream",
     "text": [
      "5.590686394827535\n",
      "Experiment adv-0.1-batch+dp+2048: Epoch  29/50, train loss: 1.94e+00, train acc: 0.368\n"
     ]
    },
    {
     "name": "stderr",
     "output_type": "stream",
     "text": [
      "100%|███████████████████████████████████████████████████████████████| 25/25 [00:19<00:00,  1.27it/s]\n"
     ]
    },
    {
     "name": "stdout",
     "output_type": "stream",
     "text": [
      "5.6906218085191655\n",
      "Experiment adv-0.1-batch+dp+2048: Epoch  30/50, train loss: 1.98e+00, train acc: 0.363\n"
     ]
    },
    {
     "name": "stderr",
     "output_type": "stream",
     "text": [
      "100%|███████████████████████████████████████████████████████████████| 25/25 [00:19<00:00,  1.26it/s]\n"
     ]
    },
    {
     "name": "stdout",
     "output_type": "stream",
     "text": [
      "5.790557222210795\n",
      "Experiment adv-0.1-batch+dp+2048: Epoch  31/50, train loss: 1.94e+00, train acc: 0.373\n"
     ]
    },
    {
     "name": "stderr",
     "output_type": "stream",
     "text": [
      "100%|███████████████████████████████████████████████████████████████| 25/25 [00:19<00:00,  1.27it/s]\n"
     ]
    },
    {
     "name": "stdout",
     "output_type": "stream",
     "text": [
      "5.88766830097423\n",
      "Experiment adv-0.1-batch+dp+2048: Epoch  32/50, train loss: 1.94e+00, train acc: 0.373\n"
     ]
    },
    {
     "name": "stderr",
     "output_type": "stream",
     "text": [
      "100%|███████████████████████████████████████████████████████████████| 25/25 [00:19<00:00,  1.26it/s]\n"
     ]
    },
    {
     "name": "stdout",
     "output_type": "stream",
     "text": [
      "5.984718304571707\n",
      "Experiment adv-0.1-batch+dp+2048: Epoch  33/50, train loss: 1.94e+00, train acc: 0.377\n"
     ]
    },
    {
     "name": "stderr",
     "output_type": "stream",
     "text": [
      "100%|███████████████████████████████████████████████████████████████| 25/25 [00:19<00:00,  1.27it/s]\n"
     ]
    },
    {
     "name": "stdout",
     "output_type": "stream",
     "text": [
      "6.080389667791101\n",
      "Experiment adv-0.1-batch+dp+2048: Epoch  34/50, train loss: 1.92e+00, train acc: 0.378\n"
     ]
    },
    {
     "name": "stderr",
     "output_type": "stream",
     "text": [
      "100%|███████████████████████████████████████████████████████████████| 25/25 [00:19<00:00,  1.26it/s]\n"
     ]
    },
    {
     "name": "stdout",
     "output_type": "stream",
     "text": [
      "6.174595493956526\n",
      "Experiment adv-0.1-batch+dp+2048: Epoch  35/50, train loss: 1.97e+00, train acc: 0.371\n"
     ]
    },
    {
     "name": "stderr",
     "output_type": "stream",
     "text": [
      "100%|███████████████████████████████████████████████████████████████| 25/25 [00:19<00:00,  1.26it/s]\n"
     ]
    },
    {
     "name": "stdout",
     "output_type": "stream",
     "text": [
      "6.268801320121951\n",
      "Experiment adv-0.1-batch+dp+2048: Epoch  36/50, train loss: 1.90e+00, train acc: 0.383\n"
     ]
    },
    {
     "name": "stderr",
     "output_type": "stream",
     "text": [
      "100%|███████████████████████████████████████████████████████████████| 25/25 [00:19<00:00,  1.28it/s]\n"
     ]
    },
    {
     "name": "stdout",
     "output_type": "stream",
     "text": [
      "6.360958913287868\n",
      "Experiment adv-0.1-batch+dp+2048: Epoch  37/50, train loss: 1.96e+00, train acc: 0.379\n"
     ]
    },
    {
     "name": "stderr",
     "output_type": "stream",
     "text": [
      "100%|███████████████████████████████████████████████████████████████| 25/25 [00:20<00:00,  1.23it/s]\n"
     ]
    },
    {
     "name": "stdout",
     "output_type": "stream",
     "text": [
      "6.452360371115347\n",
      "Experiment adv-0.1-batch+dp+2048: Epoch  38/50, train loss: 1.91e+00, train acc: 0.387\n"
     ]
    },
    {
     "name": "stderr",
     "output_type": "stream",
     "text": [
      "100%|███████████████████████████████████████████████████████████████| 25/25 [00:19<00:00,  1.26it/s]\n"
     ]
    },
    {
     "name": "stdout",
     "output_type": "stream",
     "text": [
      "6.543761828942825\n",
      "Experiment adv-0.1-batch+dp+2048: Epoch  39/50, train loss: 1.93e+00, train acc: 0.384\n"
     ]
    },
    {
     "name": "stderr",
     "output_type": "stream",
     "text": [
      "100%|███████████████████████████████████████████████████████████████| 25/25 [00:19<00:00,  1.26it/s]\n"
     ]
    },
    {
     "name": "stdout",
     "output_type": "stream",
     "text": [
      "6.633283961498917\n",
      "Experiment adv-0.1-batch+dp+2048: Epoch  40/50, train loss: 1.89e+00, train acc: 0.394\n"
     ]
    },
    {
     "name": "stderr",
     "output_type": "stream",
     "text": [
      "100%|███████████████████████████████████████████████████████████████| 25/25 [00:19<00:00,  1.26it/s]\n"
     ]
    },
    {
     "name": "stdout",
     "output_type": "stream",
     "text": [
      "6.721919519815599\n",
      "Experiment adv-0.1-batch+dp+2048: Epoch  41/50, train loss: 1.96e+00, train acc: 0.386\n"
     ]
    },
    {
     "name": "stderr",
     "output_type": "stream",
     "text": [
      "100%|███████████████████████████████████████████████████████████████| 25/25 [00:19<00:00,  1.26it/s]\n"
     ]
    },
    {
     "name": "stdout",
     "output_type": "stream",
     "text": [
      "6.81055507813228\n",
      "Experiment adv-0.1-batch+dp+2048: Epoch  42/50, train loss: 1.91e+00, train acc: 0.397\n"
     ]
    },
    {
     "name": "stderr",
     "output_type": "stream",
     "text": [
      "100%|███████████████████████████████████████████████████████████████| 25/25 [00:19<00:00,  1.26it/s]\n"
     ]
    },
    {
     "name": "stdout",
     "output_type": "stream",
     "text": [
      "6.898401367063894\n",
      "Experiment adv-0.1-batch+dp+2048: Epoch  43/50, train loss: 1.92e+00, train acc: 0.395\n"
     ]
    },
    {
     "name": "stderr",
     "output_type": "stream",
     "text": [
      "100%|███████████████████████████████████████████████████████████████| 25/25 [00:19<00:00,  1.27it/s]\n"
     ]
    },
    {
     "name": "stdout",
     "output_type": "stream",
     "text": [
      "6.98430823089281\n",
      "Experiment adv-0.1-batch+dp+2048: Epoch  44/50, train loss: 1.96e+00, train acc: 0.389\n"
     ]
    },
    {
     "name": "stderr",
     "output_type": "stream",
     "text": [
      "100%|███████████████████████████████████████████████████████████████| 25/25 [00:19<00:00,  1.26it/s]\n"
     ]
    },
    {
     "name": "stdout",
     "output_type": "stream",
     "text": [
      "7.070215094721727\n",
      "Experiment adv-0.1-batch+dp+2048: Epoch  45/50, train loss: 1.90e+00, train acc: 0.401\n"
     ]
    },
    {
     "name": "stderr",
     "output_type": "stream",
     "text": [
      "100%|███████████████████████████████████████████████████████████████| 25/25 [00:19<00:00,  1.27it/s]\n"
     ]
    },
    {
     "name": "stdout",
     "output_type": "stream",
     "text": [
      "7.156121958550642\n",
      "Experiment adv-0.1-batch+dp+2048: Epoch  46/50, train loss: 1.90e+00, train acc: 0.402\n"
     ]
    },
    {
     "name": "stderr",
     "output_type": "stream",
     "text": [
      "100%|███████████████████████████████████████████████████████████████| 25/25 [00:19<00:00,  1.27it/s]\n"
     ]
    },
    {
     "name": "stdout",
     "output_type": "stream",
     "text": [
      "7.240657851908943\n",
      "Experiment adv-0.1-batch+dp+2048: Epoch  47/50, train loss: 1.93e+00, train acc: 0.399\n"
     ]
    },
    {
     "name": "stderr",
     "output_type": "stream",
     "text": [
      "100%|███████████████████████████████████████████████████████████████| 25/25 [00:19<00:00,  1.26it/s]\n"
     ]
    },
    {
     "name": "stdout",
     "output_type": "stream",
     "text": [
      "7.323872032804464\n",
      "Experiment adv-0.1-batch+dp+2048: Epoch  48/50, train loss: 1.86e+00, train acc: 0.413\n"
     ]
    },
    {
     "name": "stderr",
     "output_type": "stream",
     "text": [
      "100%|███████████████████████████████████████████████████████████████| 25/25 [00:19<00:00,  1.27it/s]\n"
     ]
    },
    {
     "name": "stdout",
     "output_type": "stream",
     "text": [
      "7.407086213699984\n",
      "Experiment adv-0.1-batch+dp+2048: Epoch  49/50, train loss: 1.88e+00, train acc: 0.408\n"
     ]
    },
    {
     "name": "stderr",
     "output_type": "stream",
     "text": [
      "100%|███████████████████████████████████████████████████████████████| 25/25 [00:19<00:00,  1.26it/s]\n"
     ]
    },
    {
     "name": "stdout",
     "output_type": "stream",
     "text": [
      "7.490300394595504\n",
      "Experiment adv-0.1-batch+dp+2048: Epoch  50/50, train loss: 1.91e+00, train acc: 0.407\n",
      "Experiment adv-0.1-batch+dp+2048: Training finished\n",
      "7.490300394595504\n"
     ]
    },
    {
     "data": {
      "image/png": "[encoded data removed]",
      "text/plain": [
       "<Figure size 640x480 with 1 Axes>"
      ]
     },
     "metadata": {},
     "output_type": "display_data"
    },
    {
     "data": {
      "image/png": "[encoded data removed]",
      "text/plain": [
       "<Figure size 640x480 with 1 Axes>"
      ]
     },
     "metadata": {},
     "output_type": "display_data"
    }
   ],
   "source": [
    "import torch\n",
    "# max 1.2 eps 7.5\n",
    "\n",
    "device = torch.device('cuda') if torch.cuda.is_available() else torch.device('cpu')\n",
    "print(device)\n",
    "\n",
    "batch_size=2048\n",
    "adv_attack_mode ='batch'\n",
    "epsilon=0.1\n",
    "dp=True\n",
    "epochs = 50\n",
    "patience = 50\n",
    "save_experiment=False \n",
    "verbose=True\n",
    "\n",
    "adv_attack = True\n",
    "\n",
    "experiment = Experiment(\n",
    "    batch_size=batch_size, \n",
    "    epochs=epochs, \n",
    "    patience=patience, \n",
    "    adv_attack=adv_attack, \n",
    "    adv_attack_mode=adv_attack_mode, \n",
    "    epsilon=epsilon, \n",
    "    dp=dp, \n",
    "    device=device, \n",
    "    save_experiment=save_experiment, \n",
    "    verbose=verbose, \n",
    "    adv_test=True)\n",
    "\n",
    "experiment._fit()"
   ]
  },
  {
   "cell_type": "code",
   "execution_count": 3,
   "id": "3baf18f3",
   "metadata": {},
   "outputs": [
    {
     "data": {
      "text/plain": [
       "(2.3716866134772236, 0.411, 0.8518)"
      ]
     },
     "execution_count": 3,
     "metadata": {},
     "output_type": "execute_result"
    }
   ],
   "source": [
    "experiment._validate(experiment.test_loader)"
   ]
  }
 ],
 "metadata": {
  "kernelspec": {
   "display_name": "Python 3 (ipykernel)",
   "language": "python",
   "name": "python3"
  },
  "language_info": {
   "codemirror_mode": {
    "name": "ipython",
    "version": 3
   },
   "file_extension": ".py",
   "mimetype": "text/x-python",
   "name": "python",
   "nbconvert_exporter": "python",
   "pygments_lexer": "ipython3",
   "version": "3.10.8"
  }
 },
 "nbformat": 4,
 "nbformat_minor": 5
}
