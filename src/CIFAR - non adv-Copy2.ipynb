{
 "cells": [
  {
   "cell_type": "markdown",
   "id": "fc4c2e87",
   "metadata": {},
   "source": [
    "CIFAR"
   ]
  },
  {
   "cell_type": "code",
   "execution_count": 1,
   "id": "def29c99",
   "metadata": {},
   "outputs": [],
   "source": [
    "import torch\n",
    "import os\n",
    "import opacus\n",
    "import copy\n",
    "import torchvision\n",
    "import torchattacks\n",
    "\n",
    "import numpy as np\n",
    "import torch.optim as optim\n",
    "import torch.nn as nn\n",
    "import torchvision.transforms as transforms\n",
    "import matplotlib.pyplot as plt\n",
    "\n",
    "from tqdm import tqdm\n",
    "from datetime import datetime\n",
    "from opacus.validators import ModuleValidator\n",
    "\n",
    "\n",
    "from model import ResNet9, initialize_weights\n",
    "from torchvision import models\n",
    "\n",
    "\n",
    "CIFAR10_MEAN = (0.4914, 0.4822, 0.4465)\n",
    "CIFAR10_STD_DEV = (0.2023, 0.1994, 0.2010)\n",
    "\n",
    "def accuracy(preds, labels):\n",
    "    return (preds == labels).mean()\n",
    "\n",
    "class Experiment:\n",
    "    def __init__(self, batch_size, epochs, patience, adv_attack, adv_attack_mode, epsilon, dp, device, save_experiment,\n",
    "                 verbose, adv_test=True, name=None):\n",
    "        # self.model = torch.hub.load('pytorch/vision:v0.10.0', 'resnet18', pretrained=False)\n",
    "        self.model = ResNet9(norm_layer=\"group\")\n",
    "        self.adv_model = ResNet9(norm_layer=\"group\").to(device)\n",
    "        self.optimizer = optim.NAdam(self.model.parameters())\n",
    "        self.criterion = nn.CrossEntropyLoss()\n",
    "        self.batch_size = batch_size\n",
    "        self.epochs = epochs\n",
    "        self.patience = patience\n",
    "        self.adv_attack = adv_attack\n",
    "        self.adv_attack_mode = adv_attack_mode\n",
    "        self.epsilon = epsilon\n",
    "        self.dp = dp\n",
    "        self.device = device\n",
    "        self.verbose = verbose\n",
    "        self.disable_tqdm = not self.verbose\n",
    "        self.save_experiment = save_experiment\n",
    "        self.adv_test = adv_test\n",
    "        self.best_model_weights = None\n",
    "\n",
    "        if name is None:\n",
    "            adv_s = f\"adv-{epsilon}-{adv_attack_mode}\" if adv_attack is not None else \"non_adv\"\n",
    "            dp_s = \"dp\" if dp else \"non_dp\"\n",
    "            self.name = f\"{adv_s}+{dp_s}+{batch_size}\"\n",
    "        else:\n",
    "            self.name = name\n",
    "\n",
    "        now = datetime.now()\n",
    "        formatted_timestamp = now.strftime(\"%d-%m-%Y_%H:%M:%S\")\n",
    "        self.dir_name = f\"results/{self.name}_{formatted_timestamp}\"\n",
    "        if self.save_experiment:\n",
    "            os.makedirs(self.dir_name, exist_ok=True)\n",
    "\n",
    "        self._setup_training()\n",
    "\n",
    "    def _log(self, message):\n",
    "        # if self.verbose:\n",
    "        print(f\"Experiment {self.name}: {message}\")\n",
    "\n",
    "    def _setup_training(self):\n",
    "        self._log(\"Loading data\")\n",
    "        transform = transforms.Compose(\n",
    "            [transforms.ToTensor(),\n",
    "              transforms.Normalize(CIFAR10_MEAN, CIFAR10_STD_DEV)\n",
    "             ])\n",
    "        \n",
    "        learning_set = torchvision.datasets.CIFAR10(root='./data', train=True, download=True, transform=transform)\n",
    "\n",
    "        self.train_loader = torch.utils.data.DataLoader(learning_set, batch_size=self.batch_size, shuffle=True, num_workers=2)\n",
    "\n",
    "        test_set = torchvision.datasets.CIFAR10(root='./data', train=False, download=True, transform=transform)\n",
    "        self.test_loader = torch.utils.data.DataLoader(test_set, batch_size=1, shuffle=False, num_workers=2)\n",
    "\n",
    "        self.classes = ('plane', 'car', 'bird', 'cat', 'deer', 'dog', 'frog', 'horse', 'ship', 'truck')\n",
    "\n",
    "        if self.dp:\n",
    "            self._log(\"DP on\")\n",
    "            self.privacy_engine = opacus.PrivacyEngine()\n",
    "            self.model = ModuleValidator.fix(self.model)\n",
    "            self.optimizer = optim.NAdam(self.model.parameters())\n",
    "            self.model, self.optimizer, self.train_loader = self.privacy_engine.make_private_with_epsilon(\n",
    "                module=self.model,\n",
    "                optimizer=self.optimizer,\n",
    "                data_loader=self.train_loader,\n",
    "                epochs=self.epochs,\n",
    "                target_epsilon=7.5,\n",
    "                target_delta=1e-5,\n",
    "                max_grad_norm=1.5,\n",
    "            )\n",
    "        else:\n",
    "            self._log(\"DP off\")\n",
    "            \n",
    "    \n",
    "    def _fgsm_attack_per_sample(self, inputs, targets):\n",
    "        inputs, targets = inputs.to(self.device), targets.to(self.device)\n",
    "        adv_images = torch.empty_like(inputs)\n",
    "        if self.dp:\n",
    "            self.adv_model.load_state_dict(copy.deepcopy(self.model._module.state_dict()))\n",
    "            attack = torchattacks.FGSM(self.adv_model, eps=self.epsilon)\n",
    "        else:\n",
    "            attack = torchattacks.FGSM(self.model, eps=self.epsilon)\n",
    "        for i in range(len(inputs)):\n",
    "            sample = torch.unsqueeze(inputs[i], dim=0)\n",
    "            sample_target = targets[i:i + 1]\n",
    "\n",
    "            # plt.imshow(np.transpose(sample.squeeze().detach().cpu().numpy(), (1, 2, 0)))\n",
    "            # plt.show()\n",
    "            # plt.imshow(np.transpose(adv_image.squeeze().detach().cpu().numpy(), (1, 2, 0)))\n",
    "            # plt.show()\n",
    "            adv_images[i] = attack(sample, sample_target)\n",
    "\n",
    "        # imshow(torchvision.utils.make_grid(adv_images).cpu())\n",
    "        # imshow(torchvision.utils.make_grid(inputs).cpu())\n",
    "        # print(' '.join(f'{classes[targets[j]]:5s}' for j in range(BATCH_SIZE)))\n",
    "\n",
    "        adv_images.to(self.device)\n",
    "        # print(adv_images.shape, inputs.shape)\n",
    "        return adv_images, targets\n",
    "\n",
    "    def _fgsm_attack_batch(self, inputs, targets):\n",
    "        inputs, targets = inputs.to(self.device), targets.to(self.device)\n",
    "        if self.dp:\n",
    "            self.adv_model.load_state_dict(copy.deepcopy(self.model._module.state_dict()))\n",
    "            attack = torchattacks.FGSM(self.adv_model, eps=self.epsilon)\n",
    "        else:\n",
    "            attack = torchattacks.FGSM(self.model, eps=self.epsilon)\n",
    "    \n",
    "        perturbed_inputs = attack(inputs, targets)\n",
    "        \n",
    "#         plt.imshow(np.transpose(torchvision.utils.make_grid(perturbed_inputs).cpu().numpy(), (1, 2, 0)))\n",
    "#         plt.show()\n",
    "#         plt.imshow(np.transpose(torchvision.utils.make_grid(inputs).cpu().numpy(), (1, 2, 0)))\n",
    "#         plt.show()\n",
    "#         print(' '.join(f'{self.classes[targets[j]]:5s}' for j in range(self.batch_size)))\n",
    "        \n",
    "        return perturbed_inputs, targets\n",
    "\n",
    "    def _run_epoch(self, data_loader):\n",
    "        self.model.train()\n",
    "\n",
    "        losses = []\n",
    "        top1_acc = []\n",
    "\n",
    "        for inputs, targets in tqdm(data_loader, disable=self.disable_tqdm):\n",
    "            if self.adv_attack:\n",
    "                if self.adv_attack_mode == 'batch':\n",
    "                    inputs, targets = self._fgsm_attack_batch(inputs, targets)\n",
    "                else:\n",
    "                    inputs, targets = self._fgsm_attack_per_sample(inputs, targets)\n",
    "            else:\n",
    "                inputs, targets = inputs.to(self.device), targets.to(self.device)\n",
    "\n",
    "            self.optimizer.zero_grad()\n",
    "\n",
    "            output = self.model(inputs)\n",
    "            loss = self.criterion(output, targets)\n",
    "            \n",
    "            preds = np.argmax(output.detach().cpu().numpy(), axis=1)\n",
    "            labels = targets.detach().cpu().numpy()\n",
    "\n",
    "            acc = accuracy(preds, labels)\n",
    "\n",
    "            losses.append(loss.item())\n",
    "            top1_acc.append(acc)\n",
    "\n",
    "            loss.backward()\n",
    "            self.optimizer.step()\n",
    "            \n",
    "        epsilon = self.privacy_engine.get_epsilon(1e-5)\n",
    "        print(epsilon)\n",
    "        return np.mean(losses), np.mean(top1_acc)\n",
    "\n",
    "\n",
    "    def _fit(self):\n",
    "        self._log(\"Training started\")\n",
    "        _ = self.model.to(self.device)\n",
    "        _ = self.model.apply(initialize_weights)\n",
    "\n",
    "        curr_patience = 0\n",
    "        max_acc = 0\n",
    "\n",
    "        val_losses = []\n",
    "        val_accuracies = []\n",
    "        train_losses = []\n",
    "        train_accuracies = []\n",
    "\n",
    "        for epoch in range(self.epochs):\n",
    "\n",
    "            train_loss, train_acc = self._run_epoch(self.train_loader)\n",
    "            self._log(f\"Epoch {epoch + 1: >3}/{self.epochs}, train loss: {train_loss:.2e}, train acc: {train_acc:.3f}\")\n",
    "\n",
    "            train_losses.append(train_loss)\n",
    "            train_accuracies.append(train_acc)\n",
    "            \n",
    "            if train_acc > max_acc:\n",
    "                max_acc = train_acc\n",
    "                self.best_model_weights = copy.deepcopy(self.model.state_dict())\n",
    "                if self.save_experiment:\n",
    "                    torch.save(self.model.state_dict(), f\"{self.dir_name}/{self.name}.pt\")\n",
    "\n",
    "        self.model.load_state_dict(self.best_model_weights)\n",
    "\n",
    "        self._log(\"Training finished\")\n",
    "        epsilon = self.privacy_engine.get_epsilon(1e-5)\n",
    "        print(epsilon)\n",
    "\n",
    "        plt.plot(range(len(train_losses)), np.array(train_losses))\n",
    "        plt.title('train loss')\n",
    "        if self.save_experiment:\n",
    "            plt.savefig(f\"{self.dir_name}/train_loss.png\")\n",
    "        if self.verbose:\n",
    "            plt.show()\n",
    "        else:\n",
    "            plt.clf()\n",
    "\n",
    "        plt.plot(range(len(train_accuracies)), np.array(train_accuracies))\n",
    "        plt.title('train acc')\n",
    "        if self.save_experiment:\n",
    "            plt.savefig(f\"{self.dir_name}/train_acc.png\")\n",
    "        if self.verbose:\n",
    "            plt.show()\n",
    "        else:\n",
    "            plt.clf()\n",
    "\n",
    "    def _validate(self, data_loader):\n",
    "        self.model.eval()\n",
    "        epoch_acc = 0.0\n",
    "        epoch_acc_top5 = 0.0\n",
    "        epoch_loss = 0.0\n",
    "\n",
    "        with torch.no_grad():\n",
    "            for inputs, targets in data_loader:\n",
    "                inputs, targets = inputs.to(self.device), targets.to(self.device)\n",
    "                outputs = self.model(inputs)\n",
    "\n",
    "                loss = self.criterion(outputs, targets)\n",
    "\n",
    "                top1 = torch.argmax(outputs, dim=1).long()\n",
    "                n_correct = torch.sum(top1 == targets)\n",
    "\n",
    "                _, top5 = torch.topk(outputs, 5, dim=1)\n",
    "                top5 = top5.t()\n",
    "                correct = top5.eq(targets.reshape(1, -1).expand_as(top5))\n",
    "                n_correct_top5 = correct[:5].reshape(-1).float().sum(0, keepdim=True)\n",
    "\n",
    "                epoch_loss += loss.item()\n",
    "                epoch_acc += n_correct.item()\n",
    "                epoch_acc_top5 += n_correct_top5.item()\n",
    "\n",
    "            epoch_loss /= len(data_loader.dataset)\n",
    "            epoch_acc /= len(data_loader.dataset)\n",
    "            epoch_acc_top5 /= len(data_loader.dataset)\n",
    "\n",
    "        return epoch_loss, epoch_acc, epoch_acc_top5\n",
    "\n",
    "    def test(self, eps, data_loader):\n",
    "        correct = 0\n",
    "        adv_examples = []\n",
    "        self.model.eval()\n",
    "\n",
    "        if self.dp:\n",
    "            self.adv_model.load_state_dict(copy.deepcopy(self.model._module.state_dict()))\n",
    "            attack = torchattacks.FGSM(self.adv_model, eps=eps)\n",
    "        else:\n",
    "            attack = torchattacks.FGSM(self.model, eps=eps)\n",
    "\n",
    "        for data, target in tqdm(data_loader, disable=self.disable_tqdm):\n",
    "            data, target = data.to(self.device), target.to(self.device)\n",
    "\n",
    "            output = self.model(data)\n",
    "            init_pred = torch.argmax(output, dim=1).long()\n",
    "\n",
    "            if init_pred.item() != target.item():\n",
    "                continue\n",
    "\n",
    "            perturbed_inputs = attack(data, target)\n",
    "            output = self.model(perturbed_inputs)\n",
    "\n",
    "            final_pred = torch.argmax(output, dim=1).long()\n",
    "            if final_pred.item() == target.item():\n",
    "                correct += 1\n",
    "\n",
    "                if (eps == 0) and (len(adv_examples) < 5):\n",
    "                    adv_ex = perturbed_inputs.squeeze().detach().cpu().numpy()\n",
    "                    adv_examples.append((init_pred.item(), final_pred.item(), adv_ex))\n",
    "            else:\n",
    "                if len(adv_examples) < 5:\n",
    "                    adv_ex = perturbed_inputs.squeeze().detach().cpu().numpy()\n",
    "                    adv_examples.append((init_pred.item(), final_pred.item(), adv_ex))\n",
    "\n",
    "        final_acc = correct / float(len(data_loader))\n",
    "        self._log(\n",
    "            \"Epsilon: {}\\tTest Accuracy = {} / {} = {}\".format(eps, correct, len(data_loader), final_acc))\n",
    "        return final_acc, adv_examples\n",
    "\n"
   ]
  },
  {
   "cell_type": "code",
   "execution_count": 2,
   "id": "bca5c5bd",
   "metadata": {},
   "outputs": [
    {
     "name": "stdout",
     "output_type": "stream",
     "text": [
      "cuda\n",
      "Experiment non_adv+dp+1024: Loading data\n",
      "Files already downloaded and verified\n",
      "Files already downloaded and verified\n",
      "Experiment non_adv+dp+1024: DP on\n"
     ]
    },
    {
     "name": "stderr",
     "output_type": "stream",
     "text": [
      "/home/anna/miniconda3/envs/ap/lib/python3.10/site-packages/opacus/privacy_engine.py:141: UserWarning: Secure RNG turned off. This is perfectly fine for experimentation as it allows for much faster training performance, but remember to turn it on and retrain one last time before production with ``secure_mode`` turned on.\n",
      "  warnings.warn(\n",
      "/home/anna/miniconda3/envs/ap/lib/python3.10/site-packages/opacus/accountants/analysis/rdp.py:332: UserWarning: Optimal order is the largest alpha. Please consider expanding the range of alphas to get a tighter privacy bound.\n",
      "  warnings.warn(\n"
     ]
    },
    {
     "name": "stdout",
     "output_type": "stream",
     "text": [
      "Experiment non_adv+dp+1024: Training started\n"
     ]
    },
    {
     "name": "stderr",
     "output_type": "stream",
     "text": [
      "  0%|                                                      | 0/49 [00:00<?, ?it/s]/home/anna/miniconda3/envs/ap/lib/python3.10/site-packages/torch/nn/modules/module.py:1053: UserWarning: Using a non-full backward hook when the forward contains multiple autograd Nodes is deprecated and will be removed in future versions. This hook will be missing some grad_input. Please use register_full_backward_hook to get the documented behavior.\n",
      "  warnings.warn(\"Using a non-full backward hook when the forward contains multiple autograd Nodes \"\n",
      "100%|█████████████████████████████████████████████| 49/49 [00:16<00:00,  3.04it/s]\n"
     ]
    },
    {
     "name": "stdout",
     "output_type": "stream",
     "text": [
      "2.6516377876383403\n",
      "Experiment non_adv+dp+1024: Epoch   1/25, train loss: 2.81e+00, train acc: 0.244\n"
     ]
    },
    {
     "name": "stderr",
     "output_type": "stream",
     "text": [
      "100%|█████████████████████████████████████████████| 49/49 [00:14<00:00,  3.45it/s]\n"
     ]
    },
    {
     "name": "stdout",
     "output_type": "stream",
     "text": [
      "3.049062174160057\n",
      "Experiment non_adv+dp+1024: Epoch   2/25, train loss: 1.98e+00, train acc: 0.379\n"
     ]
    },
    {
     "name": "stderr",
     "output_type": "stream",
     "text": [
      "100%|█████████████████████████████████████████████| 49/49 [00:14<00:00,  3.42it/s]\n"
     ]
    },
    {
     "name": "stdout",
     "output_type": "stream",
     "text": [
      "3.3695191026322946\n",
      "Experiment non_adv+dp+1024: Epoch   3/25, train loss: 1.80e+00, train acc: 0.452\n"
     ]
    },
    {
     "name": "stderr",
     "output_type": "stream",
     "text": [
      "100%|█████████████████████████████████████████████| 49/49 [00:14<00:00,  3.41it/s]\n"
     ]
    },
    {
     "name": "stdout",
     "output_type": "stream",
     "text": [
      "3.6558325276236547\n",
      "Experiment non_adv+dp+1024: Epoch   4/25, train loss: 1.75e+00, train acc: 0.488\n"
     ]
    },
    {
     "name": "stderr",
     "output_type": "stream",
     "text": [
      "100%|█████████████████████████████████████████████| 49/49 [00:14<00:00,  3.33it/s]\n"
     ]
    },
    {
     "name": "stdout",
     "output_type": "stream",
     "text": [
      "3.915523007989198\n",
      "Experiment non_adv+dp+1024: Epoch   5/25, train loss: 1.70e+00, train acc: 0.510\n"
     ]
    },
    {
     "name": "stderr",
     "output_type": "stream",
     "text": [
      "100%|█████████████████████████████████████████████| 49/49 [00:14<00:00,  3.39it/s]\n"
     ]
    },
    {
     "name": "stdout",
     "output_type": "stream",
     "text": [
      "4.158584610512357\n",
      "Experiment non_adv+dp+1024: Epoch   6/25, train loss: 1.60e+00, train acc: 0.541\n"
     ]
    },
    {
     "name": "stderr",
     "output_type": "stream",
     "text": [
      "100%|█████████████████████████████████████████████| 49/49 [00:14<00:00,  3.35it/s]\n"
     ]
    },
    {
     "name": "stdout",
     "output_type": "stream",
     "text": [
      "4.3880040146219255\n",
      "Experiment non_adv+dp+1024: Epoch   7/25, train loss: 1.61e+00, train acc: 0.556\n"
     ]
    },
    {
     "name": "stderr",
     "output_type": "stream",
     "text": [
      "100%|█████████████████████████████████████████████| 49/49 [00:14<00:00,  3.36it/s]\n"
     ]
    },
    {
     "name": "stdout",
     "output_type": "stream",
     "text": [
      "4.60484266313402\n",
      "Experiment non_adv+dp+1024: Epoch   8/25, train loss: 1.59e+00, train acc: 0.566\n"
     ]
    },
    {
     "name": "stderr",
     "output_type": "stream",
     "text": [
      "100%|█████████████████████████████████████████████| 49/49 [00:14<00:00,  3.32it/s]\n"
     ]
    },
    {
     "name": "stdout",
     "output_type": "stream",
     "text": [
      "4.813398392225429\n",
      "Experiment non_adv+dp+1024: Epoch   9/25, train loss: 1.56e+00, train acc: 0.582\n"
     ]
    },
    {
     "name": "stderr",
     "output_type": "stream",
     "text": [
      "100%|█████████████████████████████████████████████| 49/49 [00:14<00:00,  3.35it/s]\n"
     ]
    },
    {
     "name": "stdout",
     "output_type": "stream",
     "text": [
      "5.0159740020153\n",
      "Experiment non_adv+dp+1024: Epoch  10/25, train loss: 1.54e+00, train acc: 0.593\n"
     ]
    },
    {
     "name": "stderr",
     "output_type": "stream",
     "text": [
      "100%|█████████████████████████████████████████████| 49/49 [00:14<00:00,  3.36it/s]\n"
     ]
    },
    {
     "name": "stdout",
     "output_type": "stream",
     "text": [
      "5.208785239333664\n",
      "Experiment non_adv+dp+1024: Epoch  11/25, train loss: 1.48e+00, train acc: 0.608\n"
     ]
    },
    {
     "name": "stderr",
     "output_type": "stream",
     "text": [
      "100%|█████████████████████████████████████████████| 49/49 [00:14<00:00,  3.33it/s]\n"
     ]
    },
    {
     "name": "stdout",
     "output_type": "stream",
     "text": [
      "5.397324006150258\n",
      "Experiment non_adv+dp+1024: Epoch  12/25, train loss: 1.46e+00, train acc: 0.615\n"
     ]
    },
    {
     "name": "stderr",
     "output_type": "stream",
     "text": [
      "100%|█████████████████████████████████████████████| 49/49 [00:14<00:00,  3.35it/s]\n"
     ]
    },
    {
     "name": "stdout",
     "output_type": "stream",
     "text": [
      "5.580067154794406\n",
      "Experiment non_adv+dp+1024: Epoch  13/25, train loss: 1.39e+00, train acc: 0.631\n"
     ]
    },
    {
     "name": "stderr",
     "output_type": "stream",
     "text": [
      "100%|█████████████████████████████████████████████| 49/49 [00:14<00:00,  3.37it/s]\n"
     ]
    },
    {
     "name": "stdout",
     "output_type": "stream",
     "text": [
      "5.757976293745034\n",
      "Experiment non_adv+dp+1024: Epoch  14/25, train loss: 1.41e+00, train acc: 0.634\n"
     ]
    },
    {
     "name": "stderr",
     "output_type": "stream",
     "text": [
      "100%|█████████████████████████████████████████████| 49/49 [00:14<00:00,  3.34it/s]\n"
     ]
    },
    {
     "name": "stdout",
     "output_type": "stream",
     "text": [
      "5.931432361168287\n",
      "Experiment non_adv+dp+1024: Epoch  15/25, train loss: 1.34e+00, train acc: 0.652\n"
     ]
    },
    {
     "name": "stderr",
     "output_type": "stream",
     "text": [
      "100%|█████████████████████████████████████████████| 49/49 [00:14<00:00,  3.34it/s]\n"
     ]
    },
    {
     "name": "stdout",
     "output_type": "stream",
     "text": [
      "6.101690773691344\n",
      "Experiment non_adv+dp+1024: Epoch  16/25, train loss: 1.34e+00, train acc: 0.657\n"
     ]
    },
    {
     "name": "stderr",
     "output_type": "stream",
     "text": [
      "100%|█████████████████████████████████████████████| 49/49 [00:14<00:00,  3.37it/s]\n"
     ]
    },
    {
     "name": "stdout",
     "output_type": "stream",
     "text": [
      "6.2665215901166755\n",
      "Experiment non_adv+dp+1024: Epoch  17/25, train loss: 1.33e+00, train acc: 0.660\n"
     ]
    },
    {
     "name": "stderr",
     "output_type": "stream",
     "text": [
      "100%|█████████████████████████████████████████████| 49/49 [00:14<00:00,  3.35it/s]\n"
     ]
    },
    {
     "name": "stdout",
     "output_type": "stream",
     "text": [
      "6.431352406542007\n",
      "Experiment non_adv+dp+1024: Epoch  18/25, train loss: 1.34e+00, train acc: 0.666\n"
     ]
    },
    {
     "name": "stderr",
     "output_type": "stream",
     "text": [
      "100%|█████████████████████████████████████████████| 49/49 [00:14<00:00,  3.36it/s]\n"
     ]
    },
    {
     "name": "stdout",
     "output_type": "stream",
     "text": [
      "6.588623452378315\n",
      "Experiment non_adv+dp+1024: Epoch  19/25, train loss: 1.34e+00, train acc: 0.669\n"
     ]
    },
    {
     "name": "stderr",
     "output_type": "stream",
     "text": [
      "100%|█████████████████████████████████████████████| 49/49 [00:14<00:00,  3.36it/s]\n"
     ]
    },
    {
     "name": "stdout",
     "output_type": "stream",
     "text": [
      "6.745395266099074\n",
      "Experiment non_adv+dp+1024: Epoch  20/25, train loss: 1.33e+00, train acc: 0.670\n"
     ]
    },
    {
     "name": "stderr",
     "output_type": "stream",
     "text": [
      "100%|█████████████████████████████████████████████| 49/49 [00:14<00:00,  3.36it/s]\n"
     ]
    },
    {
     "name": "stdout",
     "output_type": "stream",
     "text": [
      "6.9008280000842985\n",
      "Experiment non_adv+dp+1024: Epoch  21/25, train loss: 1.30e+00, train acc: 0.677\n"
     ]
    },
    {
     "name": "stderr",
     "output_type": "stream",
     "text": [
      "100%|█████████████████████████████████████████████| 49/49 [00:14<00:00,  3.36it/s]\n"
     ]
    },
    {
     "name": "stdout",
     "output_type": "stream",
     "text": [
      "7.0500296780898015\n",
      "Experiment non_adv+dp+1024: Epoch  22/25, train loss: 1.28e+00, train acc: 0.681\n"
     ]
    },
    {
     "name": "stderr",
     "output_type": "stream",
     "text": [
      "100%|█████████████████████████████████████████████| 49/49 [00:14<00:00,  3.35it/s]\n"
     ]
    },
    {
     "name": "stdout",
     "output_type": "stream",
     "text": [
      "7.1992313560953045\n",
      "Experiment non_adv+dp+1024: Epoch  23/25, train loss: 1.31e+00, train acc: 0.681\n"
     ]
    },
    {
     "name": "stderr",
     "output_type": "stream",
     "text": [
      "100%|█████████████████████████████████████████████| 49/49 [00:14<00:00,  3.36it/s]\n"
     ]
    },
    {
     "name": "stdout",
     "output_type": "stream",
     "text": [
      "7.348211784993296\n",
      "Experiment non_adv+dp+1024: Epoch  24/25, train loss: 1.28e+00, train acc: 0.689\n"
     ]
    },
    {
     "name": "stderr",
     "output_type": "stream",
     "text": [
      "100%|█████████████████████████████████████████████| 49/49 [00:14<00:00,  3.36it/s]\n"
     ]
    },
    {
     "name": "stdout",
     "output_type": "stream",
     "text": [
      "7.490268977994677\n",
      "Experiment non_adv+dp+1024: Epoch  25/25, train loss: 1.27e+00, train acc: 0.692\n",
      "Experiment non_adv+dp+1024: Training finished\n",
      "7.490268977994677\n"
     ]
    },
    {
     "data": {
      "image/png": "[encoded data removed]",
      "text/plain": [
       "<Figure size 640x480 with 1 Axes>"
      ]
     },
     "metadata": {},
     "output_type": "display_data"
    },
    {
     "data": {
      "image/png": "[encoded data removed]",
      "text/plain": [
       "<Figure size 640x480 with 1 Axes>"
      ]
     },
     "metadata": {},
     "output_type": "display_data"
    }
   ],
   "source": [
    "#eps 7.5\n",
    "import torch\n",
    "\n",
    "device = torch.device('cuda') if torch.cuda.is_available() else torch.device('cpu')\n",
    "print(device)\n",
    "\n",
    "batch_size=1024\n",
    "adv_attack_mode ='batch'\n",
    "epsilon=0.1\n",
    "dp=True\n",
    "epochs = 25\n",
    "patience = 25\n",
    "save_experiment=False \n",
    "verbose=True\n",
    "\n",
    "adv_attack = None\n",
    "\n",
    "experiment = Experiment(\n",
    "    batch_size=batch_size, \n",
    "    epochs=epochs, \n",
    "    patience=patience, \n",
    "    adv_attack=adv_attack, \n",
    "    adv_attack_mode=None, \n",
    "    epsilon=epsilon, \n",
    "    dp=dp, \n",
    "    device=device, \n",
    "    save_experiment=save_experiment, \n",
    "    verbose=verbose, \n",
    "    adv_test=True)\n",
    "\n",
    "experiment._fit()"
   ]
  },
  {
   "cell_type": "code",
   "execution_count": 3,
   "id": "8454b584",
   "metadata": {},
   "outputs": [
    {
     "data": {
      "text/plain": [
       "0.8251953125"
      ]
     },
     "execution_count": 3,
     "metadata": {},
     "output_type": "execute_result"
    }
   ],
   "source": [
    "experiment.optimizer.noise_multiplier"
   ]
  },
  {
   "cell_type": "code",
   "execution_count": 4,
   "id": "63e4836c",
   "metadata": {},
   "outputs": [
    {
     "data": {
      "text/plain": [
       "(0.0011879352474212647, 0.70428, 0.972)"
      ]
     },
     "execution_count": 4,
     "metadata": {},
     "output_type": "execute_result"
    }
   ],
   "source": [
    "experiment._validate(experiment.train_loader)"
   ]
  },
  {
   "cell_type": "code",
   "execution_count": 5,
   "id": "a1ca14b5",
   "metadata": {},
   "outputs": [
    {
     "data": {
      "text/plain": [
       "(1.3800779017518017, 0.6636, 0.9631)"
      ]
     },
     "execution_count": 5,
     "metadata": {},
     "output_type": "execute_result"
    }
   ],
   "source": [
    "experiment._validate(experiment.test_loader)"
   ]
  },
  {
   "cell_type": "code",
   "execution_count": 8,
   "id": "832ec168",
   "metadata": {},
   "outputs": [
    {
     "name": "stdout",
     "output_type": "stream",
     "text": [
      "cuda\n",
      "Experiment non_adv+dp+1024: Loading data\n",
      "Files already downloaded and verified\n",
      "Files already downloaded and verified\n",
      "Experiment non_adv+dp+1024: DP on\n",
      "Experiment non_adv+dp+1024: Training started\n"
     ]
    },
    {
     "name": "stderr",
     "output_type": "stream",
     "text": [
      "100%|█████████████████████████████████████████████| 49/49 [00:31<00:00,  1.56it/s]\n"
     ]
    },
    {
     "name": "stdout",
     "output_type": "stream",
     "text": [
      "3.027943831972982\n",
      "Experiment non_adv+dp+1024: Epoch   1/25, train loss: 2.81e+00, train acc: 0.254\n"
     ]
    },
    {
     "name": "stderr",
     "output_type": "stream",
     "text": [
      "100%|█████████████████████████████████████████████| 49/49 [00:31<00:00,  1.55it/s]\n"
     ]
    },
    {
     "name": "stdout",
     "output_type": "stream",
     "text": [
      "3.4835990035282483\n",
      "Experiment non_adv+dp+1024: Epoch   2/25, train loss: 1.93e+00, train acc: 0.395\n"
     ]
    },
    {
     "name": "stderr",
     "output_type": "stream",
     "text": [
      "100%|█████████████████████████████████████████████| 49/49 [00:31<00:00,  1.55it/s]\n"
     ]
    },
    {
     "name": "stdout",
     "output_type": "stream",
     "text": [
      "3.855019175278393\n",
      "Experiment non_adv+dp+1024: Epoch   3/25, train loss: 1.86e+00, train acc: 0.450\n"
     ]
    },
    {
     "name": "stderr",
     "output_type": "stream",
     "text": [
      "100%|█████████████████████████████████████████████| 49/49 [00:31<00:00,  1.56it/s]\n"
     ]
    },
    {
     "name": "stdout",
     "output_type": "stream",
     "text": [
      "4.178283301839848\n",
      "Experiment non_adv+dp+1024: Epoch   4/25, train loss: 1.74e+00, train acc: 0.495\n"
     ]
    },
    {
     "name": "stderr",
     "output_type": "stream",
     "text": [
      "100%|█████████████████████████████████████████████| 49/49 [00:31<00:00,  1.57it/s]\n"
     ]
    },
    {
     "name": "stdout",
     "output_type": "stream",
     "text": [
      "4.4736441648209055\n",
      "Experiment non_adv+dp+1024: Epoch   5/25, train loss: 1.68e+00, train acc: 0.521\n"
     ]
    },
    {
     "name": "stderr",
     "output_type": "stream",
     "text": [
      "100%|█████████████████████████████████████████████| 49/49 [00:31<00:00,  1.53it/s]\n"
     ]
    },
    {
     "name": "stdout",
     "output_type": "stream",
     "text": [
      "4.7494821699369005\n",
      "Experiment non_adv+dp+1024: Epoch   6/25, train loss: 1.64e+00, train acc: 0.542\n"
     ]
    },
    {
     "name": "stderr",
     "output_type": "stream",
     "text": [
      "100%|█████████████████████████████████████████████| 49/49 [00:31<00:00,  1.55it/s]\n"
     ]
    },
    {
     "name": "stdout",
     "output_type": "stream",
     "text": [
      "5.006994827856302\n",
      "Experiment non_adv+dp+1024: Epoch   7/25, train loss: 1.61e+00, train acc: 0.557\n"
     ]
    },
    {
     "name": "stderr",
     "output_type": "stream",
     "text": [
      "100%|█████████████████████████████████████████████| 49/49 [00:31<00:00,  1.55it/s]\n"
     ]
    },
    {
     "name": "stdout",
     "output_type": "stream",
     "text": [
      "5.251561267679487\n",
      "Experiment non_adv+dp+1024: Epoch   8/25, train loss: 1.60e+00, train acc: 0.566\n"
     ]
    },
    {
     "name": "stderr",
     "output_type": "stream",
     "text": [
      "100%|█████████████████████████████████████████████| 49/49 [00:31<00:00,  1.57it/s]\n"
     ]
    },
    {
     "name": "stdout",
     "output_type": "stream",
     "text": [
      "5.48842055612963\n",
      "Experiment non_adv+dp+1024: Epoch   9/25, train loss: 1.52e+00, train acc: 0.587\n"
     ]
    },
    {
     "name": "stderr",
     "output_type": "stream",
     "text": [
      "100%|█████████████████████████████████████████████| 49/49 [00:31<00:00,  1.56it/s]\n"
     ]
    },
    {
     "name": "stdout",
     "output_type": "stream",
     "text": [
      "5.713311983378917\n",
      "Experiment non_adv+dp+1024: Epoch  10/25, train loss: 1.51e+00, train acc: 0.600\n"
     ]
    },
    {
     "name": "stderr",
     "output_type": "stream",
     "text": [
      "100%|█████████████████████████████████████████████| 49/49 [00:31<00:00,  1.56it/s]\n"
     ]
    },
    {
     "name": "stdout",
     "output_type": "stream",
     "text": [
      "5.931975910820257\n",
      "Experiment non_adv+dp+1024: Epoch  11/25, train loss: 1.50e+00, train acc: 0.608\n"
     ]
    },
    {
     "name": "stderr",
     "output_type": "stream",
     "text": [
      "100%|█████████████████████████████████████████████| 49/49 [00:31<00:00,  1.57it/s]\n"
     ]
    },
    {
     "name": "stdout",
     "output_type": "stream",
     "text": [
      "6.143068358014471\n",
      "Experiment non_adv+dp+1024: Epoch  12/25, train loss: 1.46e+00, train acc: 0.618\n"
     ]
    },
    {
     "name": "stderr",
     "output_type": "stream",
     "text": [
      "100%|█████████████████████████████████████████████| 49/49 [00:31<00:00,  1.56it/s]\n"
     ]
    },
    {
     "name": "stdout",
     "output_type": "stream",
     "text": [
      "6.349062196675928\n",
      "Experiment non_adv+dp+1024: Epoch  13/25, train loss: 1.42e+00, train acc: 0.628\n"
     ]
    },
    {
     "name": "stderr",
     "output_type": "stream",
     "text": [
      "100%|█████████████████████████████████████████████| 49/49 [00:31<00:00,  1.57it/s]\n"
     ]
    },
    {
     "name": "stdout",
     "output_type": "stream",
     "text": [
      "6.547636768576481\n",
      "Experiment non_adv+dp+1024: Epoch  14/25, train loss: 1.44e+00, train acc: 0.631\n"
     ]
    },
    {
     "name": "stderr",
     "output_type": "stream",
     "text": [
      "100%|█████████████████████████████████████████████| 49/49 [00:31<00:00,  1.56it/s]\n"
     ]
    },
    {
     "name": "stdout",
     "output_type": "stream",
     "text": [
      "6.745689615793724\n",
      "Experiment non_adv+dp+1024: Epoch  15/25, train loss: 1.39e+00, train acc: 0.644\n"
     ]
    },
    {
     "name": "stderr",
     "output_type": "stream",
     "text": [
      "100%|█████████████████████████████████████████████| 49/49 [00:31<00:00,  1.55it/s]\n"
     ]
    },
    {
     "name": "stdout",
     "output_type": "stream",
     "text": [
      "6.932812979982629\n",
      "Experiment non_adv+dp+1024: Epoch  16/25, train loss: 1.33e+00, train acc: 0.656\n"
     ]
    },
    {
     "name": "stderr",
     "output_type": "stream",
     "text": [
      "100%|█████████████████████████████████████████████| 49/49 [00:31<00:00,  1.56it/s]\n"
     ]
    },
    {
     "name": "stdout",
     "output_type": "stream",
     "text": [
      "7.119936344171532\n",
      "Experiment non_adv+dp+1024: Epoch  17/25, train loss: 1.36e+00, train acc: 0.657\n"
     ]
    },
    {
     "name": "stderr",
     "output_type": "stream",
     "text": [
      "100%|█████████████████████████████████████████████| 49/49 [00:31<00:00,  1.56it/s]\n"
     ]
    },
    {
     "name": "stdout",
     "output_type": "stream",
     "text": [
      "7.3037640608571754\n",
      "Experiment non_adv+dp+1024: Epoch  18/25, train loss: 1.34e+00, train acc: 0.662\n"
     ]
    },
    {
     "name": "stderr",
     "output_type": "stream",
     "text": [
      "100%|█████████████████████████████████████████████| 49/49 [00:31<00:00,  1.58it/s]\n"
     ]
    },
    {
     "name": "stdout",
     "output_type": "stream",
     "text": [
      "7.480333747770451\n",
      "Experiment non_adv+dp+1024: Epoch  19/25, train loss: 1.30e+00, train acc: 0.670\n"
     ]
    },
    {
     "name": "stderr",
     "output_type": "stream",
     "text": [
      "100%|█████████████████████████████████████████████| 49/49 [00:31<00:00,  1.58it/s]\n"
     ]
    },
    {
     "name": "stdout",
     "output_type": "stream",
     "text": [
      "7.656903434683726\n",
      "Experiment non_adv+dp+1024: Epoch  20/25, train loss: 1.27e+00, train acc: 0.681\n"
     ]
    },
    {
     "name": "stderr",
     "output_type": "stream",
     "text": [
      "100%|█████████████████████████████████████████████| 49/49 [00:31<00:00,  1.56it/s]\n"
     ]
    },
    {
     "name": "stdout",
     "output_type": "stream",
     "text": [
      "7.832103844516558\n",
      "Experiment non_adv+dp+1024: Epoch  21/25, train loss: 1.29e+00, train acc: 0.679\n"
     ]
    },
    {
     "name": "stderr",
     "output_type": "stream",
     "text": [
      "100%|█████████████████████████████████████████████| 49/49 [00:31<00:00,  1.55it/s]\n"
     ]
    },
    {
     "name": "stdout",
     "output_type": "stream",
     "text": [
      "7.998882619225279\n",
      "Experiment non_adv+dp+1024: Epoch  22/25, train loss: 1.29e+00, train acc: 0.681\n"
     ]
    },
    {
     "name": "stderr",
     "output_type": "stream",
     "text": [
      "100%|█████████████████████████████████████████████| 49/49 [00:31<00:00,  1.57it/s]\n"
     ]
    },
    {
     "name": "stdout",
     "output_type": "stream",
     "text": [
      "8.165661393934004\n",
      "Experiment non_adv+dp+1024: Epoch  23/25, train loss: 1.25e+00, train acc: 0.693\n"
     ]
    },
    {
     "name": "stderr",
     "output_type": "stream",
     "text": [
      "100%|█████████████████████████████████████████████| 49/49 [00:31<00:00,  1.56it/s]\n"
     ]
    },
    {
     "name": "stdout",
     "output_type": "stream",
     "text": [
      "8.332440168642725\n",
      "Experiment non_adv+dp+1024: Epoch  24/25, train loss: 1.28e+00, train acc: 0.688\n"
     ]
    },
    {
     "name": "stderr",
     "output_type": "stream",
     "text": [
      "100%|█████████████████████████████████████████████| 49/49 [00:31<00:00,  1.55it/s]\n"
     ]
    },
    {
     "name": "stdout",
     "output_type": "stream",
     "text": [
      "8.49517261518174\n",
      "Experiment non_adv+dp+1024: Epoch  25/25, train loss: 1.29e+00, train acc: 0.691\n",
      "Experiment non_adv+dp+1024: Training finished\n",
      "8.49517261518174\n"
     ]
    },
    {
     "data": {
      "image/png": "[encoded data removed]",
      "text/plain": [
       "<Figure size 640x480 with 1 Axes>"
      ]
     },
     "metadata": {},
     "output_type": "display_data"
    },
    {
     "data": {
      "image/png": "[encoded data removed]",
      "text/plain": [
       "<Figure size 640x480 with 1 Axes>"
      ]
     },
     "metadata": {},
     "output_type": "display_data"
    }
   ],
   "source": [
    "#eps 8.5\n",
    "import torch\n",
    "\n",
    "device = torch.device('cuda') if torch.cuda.is_available() else torch.device('cpu')\n",
    "print(device)\n",
    "\n",
    "batch_size=1024\n",
    "adv_attack_mode ='batch'\n",
    "epsilon=0.1\n",
    "dp=True\n",
    "epochs = 25\n",
    "patience = 25\n",
    "save_experiment=False \n",
    "verbose=True\n",
    "\n",
    "adv_attack = None\n",
    "\n",
    "experiment = Experiment(\n",
    "    batch_size=batch_size, \n",
    "    epochs=epochs, \n",
    "    patience=patience, \n",
    "    adv_attack=adv_attack, \n",
    "    adv_attack_mode=None, \n",
    "    epsilon=epsilon, \n",
    "    dp=dp, \n",
    "    device=device, \n",
    "    save_experiment=save_experiment, \n",
    "    verbose=verbose, \n",
    "    adv_test=True)\n",
    "\n",
    "experiment._fit()"
   ]
  },
  {
   "cell_type": "code",
   "execution_count": 9,
   "id": "9f837ec6",
   "metadata": {},
   "outputs": [
    {
     "data": {
      "text/plain": [
       "(1.3757442510565323, 0.6655, 0.9646)"
      ]
     },
     "execution_count": 9,
     "metadata": {},
     "output_type": "execute_result"
    }
   ],
   "source": [
    "experiment._validate(experiment.test_loader)"
   ]
  },
  {
   "cell_type": "code",
   "execution_count": 3,
   "id": "f747fc95",
   "metadata": {},
   "outputs": [
    {
     "name": "stdout",
     "output_type": "stream",
     "text": [
      "cuda\n",
      "Experiment non_adv+dp+1024: Loading data\n",
      "Files already downloaded and verified\n",
      "Files already downloaded and verified\n"
     ]
    },
    {
     "name": "stderr",
     "output_type": "stream",
     "text": [
      "/home/anna/miniconda3/envs/ap/lib/python3.10/site-packages/opacus/privacy_engine.py:141: UserWarning: Secure RNG turned off. This is perfectly fine for experimentation as it allows for much faster training performance, but remember to turn it on and retrain one last time before production with ``secure_mode`` turned on.\n",
      "  warnings.warn(\n",
      "/home/anna/miniconda3/envs/ap/lib/python3.10/site-packages/opacus/accountants/analysis/rdp.py:332: UserWarning: Optimal order is the largest alpha. Please consider expanding the range of alphas to get a tighter privacy bound.\n",
      "  warnings.warn(\n"
     ]
    },
    {
     "name": "stdout",
     "output_type": "stream",
     "text": [
      "Experiment non_adv+dp+1024: DP on\n",
      "Experiment non_adv+dp+1024: Training started\n"
     ]
    },
    {
     "name": "stderr",
     "output_type": "stream",
     "text": [
      "  0%|                                                      | 0/49 [00:00<?, ?it/s]/home/anna/miniconda3/envs/ap/lib/python3.10/site-packages/torch/nn/modules/module.py:1053: UserWarning: Using a non-full backward hook when the forward contains multiple autograd Nodes is deprecated and will be removed in future versions. This hook will be missing some grad_input. Please use register_full_backward_hook to get the documented behavior.\n",
      "  warnings.warn(\"Using a non-full backward hook when the forward contains multiple autograd Nodes \"\n",
      "100%|█████████████████████████████████████████████| 49/49 [00:15<00:00,  3.10it/s]\n"
     ]
    },
    {
     "name": "stdout",
     "output_type": "stream",
     "text": [
      "0.6426615564697984\n",
      "Experiment non_adv+dp+1024: Epoch   1/25, train loss: 2.50e+00, train acc: 0.261\n"
     ]
    },
    {
     "name": "stderr",
     "output_type": "stream",
     "text": [
      "100%|█████████████████████████████████████████████| 49/49 [00:14<00:00,  3.42it/s]\n"
     ]
    },
    {
     "name": "stdout",
     "output_type": "stream",
     "text": [
      "0.7671725178951382\n",
      "Experiment non_adv+dp+1024: Epoch   2/25, train loss: 1.87e+00, train acc: 0.386\n"
     ]
    },
    {
     "name": "stderr",
     "output_type": "stream",
     "text": [
      "100%|█████████████████████████████████████████████| 49/49 [00:14<00:00,  3.40it/s]\n"
     ]
    },
    {
     "name": "stdout",
     "output_type": "stream",
     "text": [
      "0.8914602078468685\n",
      "Experiment non_adv+dp+1024: Epoch   3/25, train loss: 1.74e+00, train acc: 0.442\n"
     ]
    },
    {
     "name": "stderr",
     "output_type": "stream",
     "text": [
      "100%|█████████████████████████████████████████████| 49/49 [00:14<00:00,  3.39it/s]\n"
     ]
    },
    {
     "name": "stdout",
     "output_type": "stream",
     "text": [
      "1.0019713470565221\n",
      "Experiment non_adv+dp+1024: Epoch   4/25, train loss: 1.69e+00, train acc: 0.473\n"
     ]
    },
    {
     "name": "stderr",
     "output_type": "stream",
     "text": [
      "100%|█████████████████████████████████████████████| 49/49 [00:14<00:00,  3.38it/s]\n"
     ]
    },
    {
     "name": "stdout",
     "output_type": "stream",
     "text": [
      "1.110610447460559\n",
      "Experiment non_adv+dp+1024: Epoch   5/25, train loss: 1.69e+00, train acc: 0.482\n"
     ]
    },
    {
     "name": "stderr",
     "output_type": "stream",
     "text": [
      "100%|█████████████████████████████████████████████| 49/49 [00:14<00:00,  3.35it/s]\n"
     ]
    },
    {
     "name": "stdout",
     "output_type": "stream",
     "text": [
      "1.2110330831471845\n",
      "Experiment non_adv+dp+1024: Epoch   6/25, train loss: 1.67e+00, train acc: 0.501\n"
     ]
    },
    {
     "name": "stderr",
     "output_type": "stream",
     "text": [
      "100%|█████████████████████████████████████████████| 49/49 [00:14<00:00,  3.35it/s]\n"
     ]
    },
    {
     "name": "stdout",
     "output_type": "stream",
     "text": [
      "1.304012424124589\n",
      "Experiment non_adv+dp+1024: Epoch   7/25, train loss: 1.61e+00, train acc: 0.521\n"
     ]
    },
    {
     "name": "stderr",
     "output_type": "stream",
     "text": [
      "100%|█████████████████████████████████████████████| 49/49 [00:14<00:00,  3.35it/s]\n"
     ]
    },
    {
     "name": "stdout",
     "output_type": "stream",
     "text": [
      "1.3936075465581876\n",
      "Experiment non_adv+dp+1024: Epoch   8/25, train loss: 1.64e+00, train acc: 0.522\n"
     ]
    },
    {
     "name": "stderr",
     "output_type": "stream",
     "text": [
      "100%|█████████████████████████████████████████████| 49/49 [00:14<00:00,  3.36it/s]\n"
     ]
    },
    {
     "name": "stdout",
     "output_type": "stream",
     "text": [
      "1.4760937891018666\n",
      "Experiment non_adv+dp+1024: Epoch   9/25, train loss: 1.58e+00, train acc: 0.540\n"
     ]
    },
    {
     "name": "stderr",
     "output_type": "stream",
     "text": [
      "100%|█████████████████████████████████████████████| 49/49 [00:14<00:00,  3.34it/s]\n"
     ]
    },
    {
     "name": "stdout",
     "output_type": "stream",
     "text": [
      "1.5585800316455456\n",
      "Experiment non_adv+dp+1024: Epoch  10/25, train loss: 1.62e+00, train acc: 0.537\n"
     ]
    },
    {
     "name": "stderr",
     "output_type": "stream",
     "text": [
      "100%|█████████████████████████████████████████████| 49/49 [00:14<00:00,  3.34it/s]\n"
     ]
    },
    {
     "name": "stdout",
     "output_type": "stream",
     "text": [
      "1.6324768693953597\n",
      "Experiment non_adv+dp+1024: Epoch  11/25, train loss: 1.60e+00, train acc: 0.547\n"
     ]
    },
    {
     "name": "stderr",
     "output_type": "stream",
     "text": [
      "100%|█████████████████████████████████████████████| 49/49 [00:14<00:00,  3.35it/s]\n"
     ]
    },
    {
     "name": "stdout",
     "output_type": "stream",
     "text": [
      "1.7055392696359526\n",
      "Experiment non_adv+dp+1024: Epoch  12/25, train loss: 1.56e+00, train acc: 0.561\n"
     ]
    },
    {
     "name": "stderr",
     "output_type": "stream",
     "text": [
      "100%|█████████████████████████████████████████████| 49/49 [00:14<00:00,  3.36it/s]\n"
     ]
    },
    {
     "name": "stdout",
     "output_type": "stream",
     "text": [
      "1.7763417688438794\n",
      "Experiment non_adv+dp+1024: Epoch  13/25, train loss: 1.53e+00, train acc: 0.571\n"
     ]
    },
    {
     "name": "stderr",
     "output_type": "stream",
     "text": [
      "100%|█████████████████████████████████████████████| 49/49 [00:14<00:00,  3.30it/s]\n"
     ]
    },
    {
     "name": "stdout",
     "output_type": "stream",
     "text": [
      "1.8448523379699113\n",
      "Experiment non_adv+dp+1024: Epoch  14/25, train loss: 1.52e+00, train acc: 0.574\n"
     ]
    },
    {
     "name": "stderr",
     "output_type": "stream",
     "text": [
      "100%|█████████████████████████████████████████████| 49/49 [00:14<00:00,  3.33it/s]\n"
     ]
    },
    {
     "name": "stdout",
     "output_type": "stream",
     "text": [
      "1.9112237414210265\n",
      "Experiment non_adv+dp+1024: Epoch  15/25, train loss: 1.57e+00, train acc: 0.574\n"
     ]
    },
    {
     "name": "stderr",
     "output_type": "stream",
     "text": [
      "100%|█████████████████████████████████████████████| 49/49 [00:14<00:00,  3.33it/s]\n"
     ]
    },
    {
     "name": "stdout",
     "output_type": "stream",
     "text": [
      "1.9757656456890382\n",
      "Experiment non_adv+dp+1024: Epoch  16/25, train loss: 1.55e+00, train acc: 0.580\n"
     ]
    },
    {
     "name": "stderr",
     "output_type": "stream",
     "text": [
      "100%|█████████████████████████████████████████████| 49/49 [00:14<00:00,  3.34it/s]\n"
     ]
    },
    {
     "name": "stdout",
     "output_type": "stream",
     "text": [
      "2.038595491487863\n",
      "Experiment non_adv+dp+1024: Epoch  17/25, train loss: 1.50e+00, train acc: 0.594\n"
     ]
    },
    {
     "name": "stderr",
     "output_type": "stream",
     "text": [
      "100%|█████████████████████████████████████████████| 49/49 [00:14<00:00,  3.34it/s]\n"
     ]
    },
    {
     "name": "stdout",
     "output_type": "stream",
     "text": [
      "2.0998324549163248\n",
      "Experiment non_adv+dp+1024: Epoch  18/25, train loss: 1.49e+00, train acc: 0.599\n"
     ]
    },
    {
     "name": "stderr",
     "output_type": "stream",
     "text": [
      "100%|█████████████████████████████████████████████| 49/49 [00:14<00:00,  3.34it/s]\n"
     ]
    },
    {
     "name": "stdout",
     "output_type": "stream",
     "text": [
      "2.1596037696746215\n",
      "Experiment non_adv+dp+1024: Epoch  19/25, train loss: 1.47e+00, train acc: 0.606\n"
     ]
    },
    {
     "name": "stderr",
     "output_type": "stream",
     "text": [
      "100%|█████████████████████████████████████████████| 49/49 [00:14<00:00,  3.35it/s]\n"
     ]
    },
    {
     "name": "stdout",
     "output_type": "stream",
     "text": [
      "2.218045901862494\n",
      "Experiment non_adv+dp+1024: Epoch  20/25, train loss: 1.51e+00, train acc: 0.601\n"
     ]
    },
    {
     "name": "stderr",
     "output_type": "stream",
     "text": [
      "100%|█████████████████████████████████████████████| 49/49 [00:14<00:00,  3.35it/s]\n"
     ]
    },
    {
     "name": "stdout",
     "output_type": "stream",
     "text": [
      "2.2753059012766985\n",
      "Experiment non_adv+dp+1024: Epoch  21/25, train loss: 1.46e+00, train acc: 0.609\n"
     ]
    },
    {
     "name": "stderr",
     "output_type": "stream",
     "text": [
      "100%|█████████████████████████████████████████████| 49/49 [00:14<00:00,  3.31it/s]\n"
     ]
    },
    {
     "name": "stdout",
     "output_type": "stream",
     "text": [
      "2.3313423806039455\n",
      "Experiment non_adv+dp+1024: Epoch  22/25, train loss: 1.50e+00, train acc: 0.605\n"
     ]
    },
    {
     "name": "stderr",
     "output_type": "stream",
     "text": [
      "100%|█████████████████████████████████████████████| 49/49 [00:14<00:00,  3.34it/s]\n"
     ]
    },
    {
     "name": "stdout",
     "output_type": "stream",
     "text": [
      "2.3863954311513886\n",
      "Experiment non_adv+dp+1024: Epoch  23/25, train loss: 1.48e+00, train acc: 0.615\n"
     ]
    },
    {
     "name": "stderr",
     "output_type": "stream",
     "text": [
      "100%|█████████████████████████████████████████████| 49/49 [00:14<00:00,  3.35it/s]\n"
     ]
    },
    {
     "name": "stdout",
     "output_type": "stream",
     "text": [
      "2.4403257375951344\n",
      "Experiment non_adv+dp+1024: Epoch  24/25, train loss: 1.51e+00, train acc: 0.611\n"
     ]
    },
    {
     "name": "stderr",
     "output_type": "stream",
     "text": [
      "100%|█████████████████████████████████████████████| 49/49 [00:14<00:00,  3.35it/s]"
     ]
    },
    {
     "name": "stdout",
     "output_type": "stream",
     "text": [
      "2.4933619704298597\n",
      "Experiment non_adv+dp+1024: Epoch  25/25, train loss: 1.47e+00, train acc: 0.621\n",
      "Experiment non_adv+dp+1024: Training finished\n",
      "2.4933619704298597\n"
     ]
    },
    {
     "name": "stderr",
     "output_type": "stream",
     "text": [
      "\n"
     ]
    },
    {
     "data": {
      "image/png": "[encoded data removed]",
      "text/plain": [
       "<Figure size 640x480 with 1 Axes>"
      ]
     },
     "metadata": {},
     "output_type": "display_data"
    },
    {
     "data": {
      "image/png": "[encoded data removed]",
      "text/plain": [
       "<Figure size 640x480 with 1 Axes>"
      ]
     },
     "metadata": {},
     "output_type": "display_data"
    }
   ],
   "source": [
    "#eps 2.5\n",
    "import torch\n",
    "\n",
    "device = torch.device('cuda') if torch.cuda.is_available() else torch.device('cpu')\n",
    "print(device)\n",
    "\n",
    "batch_size=1024\n",
    "adv_attack_mode ='batch'\n",
    "epsilon=0.1\n",
    "dp=True\n",
    "epochs = 25\n",
    "patience = 25\n",
    "save_experiment=False \n",
    "verbose=True\n",
    "\n",
    "adv_attack = None\n",
    "\n",
    "experiment = Experiment(\n",
    "    batch_size=batch_size, \n",
    "    epochs=epochs, \n",
    "    patience=patience, \n",
    "    adv_attack=adv_attack, \n",
    "    adv_attack_mode=None, \n",
    "    epsilon=epsilon, \n",
    "    dp=dp, \n",
    "    device=device, \n",
    "    save_experiment=save_experiment, \n",
    "    verbose=verbose, \n",
    "    adv_test=True)\n",
    "\n",
    "experiment._fit()"
   ]
  },
  {
   "cell_type": "code",
   "execution_count": 4,
   "id": "5039393e",
   "metadata": {},
   "outputs": [
    {
     "data": {
      "text/plain": [
       "(1.541534819414919, 0.6011, 0.9486)"
      ]
     },
     "execution_count": 4,
     "metadata": {},
     "output_type": "execute_result"
    }
   ],
   "source": [
    "experiment._validate(experiment.test_loader)"
   ]
  },
  {
   "cell_type": "code",
   "execution_count": 3,
   "id": "80695319",
   "metadata": {},
   "outputs": [
    {
     "name": "stdout",
     "output_type": "stream",
     "text": [
      "cuda\n",
      "Experiment adv-0.1-sample+dp+1024: Loading data\n",
      "Files already downloaded and verified\n",
      "Files already downloaded and verified\n",
      "Experiment adv-0.1-sample+dp+1024: DP on\n",
      "Experiment adv-0.1-sample+dp+1024: Training started\n"
     ]
    },
    {
     "name": "stderr",
     "output_type": "stream",
     "text": [
      "100%|████████████████████████████████████████████████████████████████████████| 49/49 [03:47<00:00,  4.63s/it]\n"
     ]
    },
    {
     "name": "stdout",
     "output_type": "stream",
     "text": [
      "2.6516377876383403\n",
      "Experiment adv-0.1-sample+dp+1024: Epoch   1/25, train loss: 3.20e+00, train acc: 0.158\n"
     ]
    },
    {
     "name": "stderr",
     "output_type": "stream",
     "text": [
      "100%|████████████████████████████████████████████████████████████████████████| 49/49 [02:41<00:00,  3.31s/it]\n"
     ]
    },
    {
     "name": "stdout",
     "output_type": "stream",
     "text": [
      "3.049062174160057\n",
      "Experiment adv-0.1-sample+dp+1024: Epoch   2/25, train loss: 2.27e+00, train acc: 0.240\n"
     ]
    },
    {
     "name": "stderr",
     "output_type": "stream",
     "text": [
      "100%|████████████████████████████████████████████████████████████████████████| 49/49 [03:52<00:00,  4.75s/it]\n"
     ]
    },
    {
     "name": "stdout",
     "output_type": "stream",
     "text": [
      "3.3695191026322946\n",
      "Experiment adv-0.1-sample+dp+1024: Epoch   3/25, train loss: 2.18e+00, train acc: 0.267\n"
     ]
    },
    {
     "name": "stderr",
     "output_type": "stream",
     "text": [
      "100%|████████████████████████████████████████████████████████████████████████| 49/49 [03:31<00:00,  4.32s/it]\n"
     ]
    },
    {
     "name": "stdout",
     "output_type": "stream",
     "text": [
      "3.6558325276236547\n",
      "Experiment adv-0.1-sample+dp+1024: Epoch   4/25, train loss: 2.14e+00, train acc: 0.286\n"
     ]
    },
    {
     "name": "stderr",
     "output_type": "stream",
     "text": [
      "100%|████████████████████████████████████████████████████████████████████████| 49/49 [03:39<00:00,  4.49s/it]\n"
     ]
    },
    {
     "name": "stdout",
     "output_type": "stream",
     "text": [
      "3.915523007989198\n",
      "Experiment adv-0.1-sample+dp+1024: Epoch   5/25, train loss: 2.10e+00, train acc: 0.301\n"
     ]
    },
    {
     "name": "stderr",
     "output_type": "stream",
     "text": [
      "100%|████████████████████████████████████████████████████████████████████████| 49/49 [03:58<00:00,  4.87s/it]\n"
     ]
    },
    {
     "name": "stdout",
     "output_type": "stream",
     "text": [
      "4.158584610512357\n",
      "Experiment adv-0.1-sample+dp+1024: Epoch   6/25, train loss: 2.08e+00, train acc: 0.311\n"
     ]
    },
    {
     "name": "stderr",
     "output_type": "stream",
     "text": [
      "100%|████████████████████████████████████████████████████████████████████████| 49/49 [03:38<00:00,  4.47s/it]\n"
     ]
    },
    {
     "name": "stdout",
     "output_type": "stream",
     "text": [
      "4.3880040146219255\n",
      "Experiment adv-0.1-sample+dp+1024: Epoch   7/25, train loss: 2.06e+00, train acc: 0.321\n"
     ]
    },
    {
     "name": "stderr",
     "output_type": "stream",
     "text": [
      "100%|████████████████████████████████████████████████████████████████████████| 49/49 [03:43<00:00,  4.57s/it]\n"
     ]
    },
    {
     "name": "stdout",
     "output_type": "stream",
     "text": [
      "4.60484266313402\n",
      "Experiment adv-0.1-sample+dp+1024: Epoch   8/25, train loss: 2.04e+00, train acc: 0.325\n"
     ]
    },
    {
     "name": "stderr",
     "output_type": "stream",
     "text": [
      "100%|████████████████████████████████████████████████████████████████████████| 49/49 [03:06<00:00,  3.81s/it]\n"
     ]
    },
    {
     "name": "stdout",
     "output_type": "stream",
     "text": [
      "4.813398392225429\n",
      "Experiment adv-0.1-sample+dp+1024: Epoch   9/25, train loss: 2.02e+00, train acc: 0.335\n"
     ]
    },
    {
     "name": "stderr",
     "output_type": "stream",
     "text": [
      "100%|████████████████████████████████████████████████████████████████████████| 49/49 [03:23<00:00,  4.15s/it]\n"
     ]
    },
    {
     "name": "stdout",
     "output_type": "stream",
     "text": [
      "5.0159740020153\n",
      "Experiment adv-0.1-sample+dp+1024: Epoch  10/25, train loss: 2.04e+00, train acc: 0.339\n"
     ]
    },
    {
     "name": "stderr",
     "output_type": "stream",
     "text": [
      "100%|████████████████████████████████████████████████████████████████████████| 49/49 [03:32<00:00,  4.33s/it]\n"
     ]
    },
    {
     "name": "stdout",
     "output_type": "stream",
     "text": [
      "5.208785239333664\n",
      "Experiment adv-0.1-sample+dp+1024: Epoch  11/25, train loss: 1.99e+00, train acc: 0.345\n"
     ]
    },
    {
     "name": "stderr",
     "output_type": "stream",
     "text": [
      "100%|████████████████████████████████████████████████████████████████████████| 49/49 [03:21<00:00,  4.12s/it]\n"
     ]
    },
    {
     "name": "stdout",
     "output_type": "stream",
     "text": [
      "5.397324006150258\n",
      "Experiment adv-0.1-sample+dp+1024: Epoch  12/25, train loss: 2.02e+00, train acc: 0.343\n"
     ]
    },
    {
     "name": "stderr",
     "output_type": "stream",
     "text": [
      "100%|████████████████████████████████████████████████████████████████████████| 49/49 [03:41<00:00,  4.51s/it]\n"
     ]
    },
    {
     "name": "stdout",
     "output_type": "stream",
     "text": [
      "5.580067154794406\n",
      "Experiment adv-0.1-sample+dp+1024: Epoch  13/25, train loss: 1.98e+00, train acc: 0.356\n"
     ]
    },
    {
     "name": "stderr",
     "output_type": "stream",
     "text": [
      "100%|████████████████████████████████████████████████████████████████████████| 49/49 [03:41<00:00,  4.52s/it]\n"
     ]
    },
    {
     "name": "stdout",
     "output_type": "stream",
     "text": [
      "5.757976293745034\n",
      "Experiment adv-0.1-sample+dp+1024: Epoch  14/25, train loss: 1.98e+00, train acc: 0.354\n"
     ]
    },
    {
     "name": "stderr",
     "output_type": "stream",
     "text": [
      "100%|████████████████████████████████████████████████████████████████████████| 49/49 [03:36<00:00,  4.42s/it]\n"
     ]
    },
    {
     "name": "stdout",
     "output_type": "stream",
     "text": [
      "5.931432361168287\n",
      "Experiment adv-0.1-sample+dp+1024: Epoch  15/25, train loss: 1.97e+00, train acc: 0.360\n"
     ]
    },
    {
     "name": "stderr",
     "output_type": "stream",
     "text": [
      "100%|████████████████████████████████████████████████████████████████████████| 49/49 [03:41<00:00,  4.52s/it]\n"
     ]
    },
    {
     "name": "stdout",
     "output_type": "stream",
     "text": [
      "6.101690773691344\n",
      "Experiment adv-0.1-sample+dp+1024: Epoch  16/25, train loss: 1.97e+00, train acc: 0.361\n"
     ]
    },
    {
     "name": "stderr",
     "output_type": "stream",
     "text": [
      "100%|████████████████████████████████████████████████████████████████████████| 49/49 [03:16<00:00,  4.01s/it]\n"
     ]
    },
    {
     "name": "stdout",
     "output_type": "stream",
     "text": [
      "6.2665215901166755\n",
      "Experiment adv-0.1-sample+dp+1024: Epoch  17/25, train loss: 1.96e+00, train acc: 0.364\n"
     ]
    },
    {
     "name": "stderr",
     "output_type": "stream",
     "text": [
      "100%|████████████████████████████████████████████████████████████████████████| 49/49 [02:52<00:00,  3.51s/it]\n"
     ]
    },
    {
     "name": "stdout",
     "output_type": "stream",
     "text": [
      "6.431352406542007\n",
      "Experiment adv-0.1-sample+dp+1024: Epoch  18/25, train loss: 1.97e+00, train acc: 0.370\n"
     ]
    },
    {
     "name": "stderr",
     "output_type": "stream",
     "text": [
      "100%|████████████████████████████████████████████████████████████████████████| 49/49 [03:02<00:00,  3.72s/it]\n"
     ]
    },
    {
     "name": "stdout",
     "output_type": "stream",
     "text": [
      "6.588623452378315\n",
      "Experiment adv-0.1-sample+dp+1024: Epoch  19/25, train loss: 1.96e+00, train acc: 0.373\n"
     ]
    },
    {
     "name": "stderr",
     "output_type": "stream",
     "text": [
      "100%|████████████████████████████████████████████████████████████████████████| 49/49 [03:34<00:00,  4.38s/it]\n"
     ]
    },
    {
     "name": "stdout",
     "output_type": "stream",
     "text": [
      "6.745395266099074\n",
      "Experiment adv-0.1-sample+dp+1024: Epoch  20/25, train loss: 1.93e+00, train acc: 0.387\n"
     ]
    },
    {
     "name": "stderr",
     "output_type": "stream",
     "text": [
      "100%|████████████████████████████████████████████████████████████████████████| 49/49 [03:29<00:00,  4.28s/it]\n"
     ]
    },
    {
     "name": "stdout",
     "output_type": "stream",
     "text": [
      "6.9008280000842985\n",
      "Experiment adv-0.1-sample+dp+1024: Epoch  21/25, train loss: 1.94e+00, train acc: 0.386\n"
     ]
    },
    {
     "name": "stderr",
     "output_type": "stream",
     "text": [
      "100%|████████████████████████████████████████████████████████████████████████| 49/49 [02:56<00:00,  3.61s/it]\n"
     ]
    },
    {
     "name": "stdout",
     "output_type": "stream",
     "text": [
      "7.0500296780898015\n",
      "Experiment adv-0.1-sample+dp+1024: Epoch  22/25, train loss: 1.96e+00, train acc: 0.382\n"
     ]
    },
    {
     "name": "stderr",
     "output_type": "stream",
     "text": [
      "100%|████████████████████████████████████████████████████████████████████████| 49/49 [03:25<00:00,  4.19s/it]\n"
     ]
    },
    {
     "name": "stdout",
     "output_type": "stream",
     "text": [
      "7.1992313560953045\n",
      "Experiment adv-0.1-sample+dp+1024: Epoch  23/25, train loss: 1.93e+00, train acc: 0.390\n"
     ]
    },
    {
     "name": "stderr",
     "output_type": "stream",
     "text": [
      "100%|████████████████████████████████████████████████████████████████████████| 49/49 [03:20<00:00,  4.08s/it]\n"
     ]
    },
    {
     "name": "stdout",
     "output_type": "stream",
     "text": [
      "7.348211784993296\n",
      "Experiment adv-0.1-sample+dp+1024: Epoch  24/25, train loss: 1.91e+00, train acc: 0.397\n"
     ]
    },
    {
     "name": "stderr",
     "output_type": "stream",
     "text": [
      "100%|████████████████████████████████████████████████████████████████████████| 49/49 [02:52<00:00,  3.53s/it]\n"
     ]
    },
    {
     "name": "stdout",
     "output_type": "stream",
     "text": [
      "7.490268977994677\n",
      "Experiment adv-0.1-sample+dp+1024: Epoch  25/25, train loss: 1.95e+00, train acc: 0.393\n",
      "Experiment adv-0.1-sample+dp+1024: Training finished\n",
      "7.490268977994677\n"
     ]
    },
    {
     "data": {
      "image/png": "[encoded data removed]",
      "text/plain": [
       "<Figure size 640x480 with 1 Axes>"
      ]
     },
     "metadata": {},
     "output_type": "display_data"
    },
    {
     "data": {
      "image/png": "[encoded data removed]",
      "text/plain": [
       "<Figure size 640x480 with 1 Axes>"
      ]
     },
     "metadata": {},
     "output_type": "display_data"
    }
   ],
   "source": [
    "#eps 7.5\n",
    "import torch\n",
    "\n",
    "device = torch.device('cuda') if torch.cuda.is_available() else torch.device('cpu')\n",
    "print(device)\n",
    "\n",
    "batch_size=1024\n",
    "adv_attack_mode ='sample'\n",
    "epsilon=0.1\n",
    "dp=True\n",
    "epochs = 25\n",
    "patience = 25\n",
    "save_experiment=False \n",
    "verbose=True\n",
    "\n",
    "adv_attack = True\n",
    "\n",
    "experiment = Experiment(\n",
    "    batch_size=batch_size, \n",
    "    epochs=epochs, \n",
    "    patience=patience, \n",
    "    adv_attack=adv_attack, \n",
    "    adv_attack_mode=adv_attack_mode, \n",
    "    epsilon=epsilon, \n",
    "    dp=dp, \n",
    "    device=device, \n",
    "    save_experiment=save_experiment, \n",
    "    verbose=verbose, \n",
    "    adv_test=True)\n",
    "\n",
    "experiment._fit()"
   ]
  },
  {
   "cell_type": "code",
   "execution_count": 4,
   "id": "1c2d26bd",
   "metadata": {},
   "outputs": [
    {
     "data": {
      "text/plain": [
       "(2.710708829645168, 0.4103, 0.8086)"
      ]
     },
     "execution_count": 4,
     "metadata": {},
     "output_type": "execute_result"
    }
   ],
   "source": [
    "experiment._validate(experiment.test_loader)"
   ]
  },
  {
   "cell_type": "code",
   "execution_count": null,
   "id": "7d9e78b6",
   "metadata": {},
   "outputs": [],
   "source": []
  }
 ],
 "metadata": {
  "kernelspec": {
   "display_name": "Python 3 (ipykernel)",
   "language": "python",
   "name": "python3"
  },
  "language_info": {
   "codemirror_mode": {
    "name": "ipython",
    "version": 3
   },
   "file_extension": ".py",
   "mimetype": "text/x-python",
   "name": "python",
   "nbconvert_exporter": "python",
   "pygments_lexer": "ipython3",
   "version": "3.10.8"
  }
 },
 "nbformat": 4,
 "nbformat_minor": 5
}
